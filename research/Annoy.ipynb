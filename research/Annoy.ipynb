{
 "cells": [
  {
   "cell_type": "code",
   "execution_count": 1,
   "id": "4ed9329e-89c0-405e-a373-8596fbc8b02d",
   "metadata": {},
   "outputs": [
    {
     "name": "stdout",
     "output_type": "stream",
     "text": [
      "Collecting annoy\n",
      "  Downloading annoy-1.17.2.tar.gz (647 kB)\n",
      "Building wheels for collected packages: annoy\n",
      "  Building wheel for annoy (setup.py): started\n",
      "  Building wheel for annoy (setup.py): finished with status 'done'\n",
      "  Created wheel for annoy: filename=annoy-1.17.2-cp38-cp38-win_amd64.whl size=53331 sha256=c86291353c78a5333c8e7d850a1752956fb4651b63893af36227f5a90f80c188\n",
      "  Stored in directory: c:\\users\\tim\\appdata\\local\\pip\\cache\\wheels\\57\\d0\\68\\b78ab3f9c186d63aaeb98556efc99c0802b3227698b8de2614\n",
      "Successfully built annoy\n",
      "Installing collected packages: annoy\n",
      "Successfully installed annoy-1.17.2\n"
     ]
    }
   ],
   "source": [
    "!pip install --user annoy"
   ]
  },
  {
   "cell_type": "code",
   "execution_count": 95,
   "id": "3ce0ac36-9c21-4c7a-bcc8-40897b43793c",
   "metadata": {},
   "outputs": [
    {
     "name": "stdout",
     "output_type": "stream",
     "text": [
      "env: JOBLIB_TEMP_FOLDER=/tmp\n"
     ]
    }
   ],
   "source": [
    "import pandas as pd\n",
    "import numpy as np\n",
    "\n",
    "%env JOBLIB_TEMP_FOLDER=/tmp\n",
    "import joblib\n",
    "from sklearn.feature_extraction.text import TfidfVectorizer\n",
    "from sklearn.feature_extraction.text import CountVectorizer\n",
    "from sklearn.decomposition import LatentDirichletAllocation as LDA\n",
    "from sklearn.linear_model import LogisticRegression\n",
    "from sklearn.metrics import accuracy_score\n",
    "from sklearn.pipeline import Pipeline\n",
    "from sklearn.cluster import DBSCAN, AffinityPropagation, SpectralClustering, KMeans\n",
    "\n",
    "import nltk\n",
    "from nltk.corpus import stopwords as nltk_stopwords\n",
    "\n",
    "import pickle\n",
    "import matplotlib.pyplot as plt\n",
    "import matplotlib.cm as cm\n",
    "\n",
    "from pymystem3 import Mystem\n",
    "from tqdm import tqdm_notebook as tqdm"
   ]
  },
  {
   "cell_type": "code",
   "execution_count": 4,
   "id": "db003cb6-32f9-4d3e-bdf9-42320167d1ee",
   "metadata": {},
   "outputs": [
    {
     "name": "stderr",
     "output_type": "stream",
     "text": [
      "[nltk_data] Downloading package stopwords to\n",
      "[nltk_data]     C:\\Users\\Tim\\AppData\\Roaming\\nltk_data...\n",
      "[nltk_data]   Package stopwords is already up-to-date!\n"
     ]
    }
   ],
   "source": [
    "nltk.download('stopwords')\n",
    "stopwords = set(nltk_stopwords.words('english'))"
   ]
  },
  {
   "cell_type": "code",
   "execution_count": 5,
   "id": "bdfd4a1e-3a6f-48fe-8d24-3f0b89640137",
   "metadata": {},
   "outputs": [],
   "source": [
    "count_tf_idf = TfidfVectorizer(stop_words=stopwords)"
   ]
  },
  {
   "cell_type": "code",
   "execution_count": 48,
   "id": "203e6720-4669-4426-8fb4-4a8bdaa4fb85",
   "metadata": {},
   "outputs": [],
   "source": [
    "data = pd.read_csv('recsys/data/repositories_cleaned.csv')\n",
    "\n",
    "data = data[~data['description_cleaned'].isna()]\n",
    "\n",
    "descs = data['description_cleaned'].values.astype('U')"
   ]
  },
  {
   "cell_type": "code",
   "execution_count": 12,
   "id": "9c1b0bb4-bcbd-473a-a05c-dbf07f47938f",
   "metadata": {},
   "outputs": [],
   "source": [
    "tf_idf = count_tf_idf.fit_transform(corpus)"
   ]
  },
  {
   "cell_type": "code",
   "execution_count": 13,
   "id": "db1c456e-0d1f-4a87-bfbc-42346f153b3c",
   "metadata": {},
   "outputs": [
    {
     "name": "stdout",
     "output_type": "stream",
     "text": [
      "Размер матрицы: (35238, 20414)\n"
     ]
    }
   ],
   "source": [
    "print(\"Размер матрицы:\", tf_idf.shape)"
   ]
  },
  {
   "cell_type": "code",
   "execution_count": 15,
   "id": "c04696ff-7659-4b20-8be7-ea4995a02efe",
   "metadata": {},
   "outputs": [
    {
     "data": {
      "text/plain": [
       "35238"
      ]
     },
     "execution_count": 15,
     "metadata": {},
     "output_type": "execute_result"
    }
   ],
   "source": [
    "data.shape[0]"
   ]
  },
  {
   "cell_type": "code",
   "execution_count": 17,
   "id": "5a3c8052-d9a5-4c12-a328-250f72cb8f50",
   "metadata": {},
   "outputs": [
    {
     "data": {
      "text/plain": [
       "35238"
      ]
     },
     "execution_count": 17,
     "metadata": {},
     "output_type": "execute_result"
    }
   ],
   "source": [
    "tf_idf.shape[0]"
   ]
  },
  {
   "cell_type": "code",
   "execution_count": 27,
   "id": "f03112b9-6e45-4065-b957-62a396bba747",
   "metadata": {},
   "outputs": [],
   "source": [
    "import matplotlib.pyplot as plt"
   ]
  },
  {
   "cell_type": "code",
   "execution_count": 30,
   "id": "4f1d23ec-6451-4137-a704-6762b814fc63",
   "metadata": {},
   "outputs": [
    {
     "data": {
      "text/plain": [
       "(array([   16.,    43.,   103.,   225.,   360.,   580.,   933.,  1473.,\n",
       "         2572., 14109.]),\n",
       " array([ 3.79948018,  4.49720831,  5.19493645,  5.89266458,  6.59039272,\n",
       "         7.28812085,  7.98584899,  8.68357712,  9.38130525, 10.07903339,\n",
       "        10.77676152]),\n",
       " <BarContainer object of 10 artists>)"
      ]
     },
     "execution_count": 30,
     "metadata": {},
     "output_type": "execute_result"
    },
    {
     "data": {
      "image/png": "[encoded data removed]",
      "text/plain": [
       "<Figure size 432x288 with 1 Axes>"
      ]
     },
     "metadata": {
      "needs_background": "light"
     },
     "output_type": "display_data"
    }
   ],
   "source": [
    "idfs = count_tf_idf.idf_\n",
    "plt.hist(idfs)"
   ]
  },
  {
   "cell_type": "code",
   "execution_count": 34,
   "id": "ef6e4d8e-2955-439e-81be-33a3e116f343",
   "metadata": {},
   "outputs": [],
   "source": [
    "lower_thresh = 3.\n",
    "upper_thresh = 10.\n",
    "not_often = idfs > lower_thresh\n",
    "not_rare = idfs < upper_thresh\n",
    "\n",
    "mask = not_often * not_rare\n",
    "\n",
    "good_words = np.array(count_tf_idf.get_feature_names())[mask]"
   ]
  },
  {
   "cell_type": "code",
   "execution_count": 42,
   "id": "ad638d58-acb1-4a3d-9fb6-4ba1c68f4fc5",
   "metadata": {},
   "outputs": [],
   "source": [
    "good_words = good_words.tolist()"
   ]
  },
  {
   "cell_type": "code",
   "execution_count": 44,
   "id": "7264225c-ed89-4706-a678-564991d6e1b2",
   "metadata": {},
   "outputs": [
    {
     "data": {
      "text/plain": [
       "6305"
      ]
     },
     "execution_count": 44,
     "metadata": {},
     "output_type": "execute_result"
    }
   ],
   "source": [
    "voc_len"
   ]
  },
  {
   "cell_type": "code",
   "execution_count": 43,
   "id": "b8a91caf-fb39-4ad7-ab60-59e7cfb8d8f8",
   "metadata": {},
   "outputs": [
    {
     "name": "stderr",
     "output_type": "stream",
     "text": [
      "<ipython-input-43-18630cc11825>:4: TqdmDeprecationWarning: This function will be removed in tqdm==5.0.0\n",
      "Please use `tqdm.notebook.tqdm` instead of `tqdm.tqdm_notebook`\n",
      "  for i in tqdm(range(voc_len)):\n"
     ]
    },
    {
     "data": {
      "application/vnd.jupyter.widget-view+json": {
       "model_id": "ee8a939eca5949f4a2c2b4768e7d66bf",
       "version_major": 2,
       "version_minor": 0
      },
      "text/plain": [
       "  0%|          | 0/6305 [00:00<?, ?it/s]"
      ]
     },
     "metadata": {},
     "output_type": "display_data"
    },
    {
     "name": "stdout",
     "output_type": "stream",
     "text": [
      "After stemming: 6305\n"
     ]
    }
   ],
   "source": [
    "m = Mystem()\n",
    "stemmed = set()\n",
    "voc_len = len(good_words)\n",
    "for i in tqdm(range(voc_len)):\n",
    "    word = good_words.pop()\n",
    "    stemmed_word = m.lemmatize(word)[0]\n",
    "    stemmed.add(stemmed_word)\n",
    "\n",
    "stemmed = list(stemmed)\n",
    "print('After stemming: %d'%(len(stemmed)))"
   ]
  },
  {
   "cell_type": "code",
   "execution_count": 47,
   "id": "013afc76-ea55-4327-bf27-af4373703247",
   "metadata": {},
   "outputs": [
    {
     "data": {
      "text/plain": [
       "array(['javascript d library ',\n",
       "       ' web framework for building viual reality experiences ',\n",
       "       'a brief computer graphics rendering course', ...,\n",
       "       'repository of public domain and freely licensed bibles in some standard xml formats ',\n",
       "       'fedramp automation',\n",
       "       'a modern css selector implementation for beautifulsoup'],\n",
       "      dtype='<U20292')"
      ]
     },
     "execution_count": 47,
     "metadata": {},
     "output_type": "execute_result"
    }
   ],
   "source": [
    "corpus"
   ]
  },
  {
   "cell_type": "code",
   "execution_count": 51,
   "id": "e58a5f94-b435-481e-8dfe-052fcf8be68f",
   "metadata": {},
   "outputs": [
    {
     "data": {
      "text/plain": [
       "35238"
      ]
     },
     "execution_count": 51,
     "metadata": {},
     "output_type": "execute_result"
    }
   ],
   "source": [
    "len(descs)"
   ]
  },
  {
   "cell_type": "code",
   "execution_count": 52,
   "id": "a0d4a12b-c349-47da-b552-d0913787deb8",
   "metadata": {},
   "outputs": [],
   "source": [
    "voc = {word : i for i,word in enumerate(stemmed)}\n",
    "\n",
    "count_vect = CountVectorizer(stop_words=stopwords,\n",
    "                             vocabulary=voc)\n",
    "\n",
    "dataset = count_vect.fit_transform(descs) "
   ]
  },
  {
   "cell_type": "code",
   "execution_count": 56,
   "id": "9fc1eba4-5eaf-47fd-abe2-d9999d5e97b1",
   "metadata": {},
   "outputs": [
    {
     "name": "stdout",
     "output_type": "stream",
     "text": [
      "iteration: 1 of max_iter: 30\n",
      "iteration: 2 of max_iter: 30\n",
      "iteration: 3 of max_iter: 30\n",
      "iteration: 4 of max_iter: 30\n",
      "iteration: 5 of max_iter: 30\n",
      "iteration: 6 of max_iter: 30\n",
      "iteration: 7 of max_iter: 30\n",
      "iteration: 8 of max_iter: 30\n",
      "iteration: 9 of max_iter: 30\n",
      "iteration: 10 of max_iter: 30\n",
      "iteration: 11 of max_iter: 30\n",
      "iteration: 12 of max_iter: 30\n",
      "iteration: 13 of max_iter: 30\n",
      "iteration: 14 of max_iter: 30\n",
      "iteration: 15 of max_iter: 30\n",
      "iteration: 16 of max_iter: 30\n",
      "iteration: 17 of max_iter: 30\n",
      "iteration: 18 of max_iter: 30\n",
      "iteration: 19 of max_iter: 30\n",
      "iteration: 20 of max_iter: 30\n",
      "iteration: 21 of max_iter: 30\n",
      "iteration: 22 of max_iter: 30\n",
      "iteration: 23 of max_iter: 30\n",
      "iteration: 24 of max_iter: 30\n",
      "iteration: 25 of max_iter: 30\n",
      "iteration: 26 of max_iter: 30\n",
      "iteration: 27 of max_iter: 30\n",
      "iteration: 28 of max_iter: 30\n",
      "iteration: 29 of max_iter: 30\n",
      "iteration: 30 of max_iter: 30\n"
     ]
    },
    {
     "data": {
      "text/plain": [
       "LatentDirichletAllocation(max_iter=30, n_components=60, n_jobs=6, verbose=1)"
      ]
     },
     "execution_count": 56,
     "metadata": {},
     "output_type": "execute_result"
    }
   ],
   "source": [
    "lda = LDA(n_components = 60, max_iter=30, n_jobs=6, learning_method='batch', verbose=1)\n",
    "lda.fit(dataset)"
   ]
  },
  {
   "cell_type": "code",
   "execution_count": 62,
   "id": "7e31cd5b-227a-410b-8a0c-6e62bb2b78ba",
   "metadata": {},
   "outputs": [
    {
     "data": {
      "text/plain": [
       "['models/tf_idf.pkl']"
      ]
     },
     "execution_count": 62,
     "metadata": {},
     "output_type": "execute_result"
    }
   ],
   "source": [
    "joblib.dump(lda, 'models/lda.pkl')\n",
    "joblib.dump(count_vect, 'models/countVect.pkl')\n",
    "joblib.dump(count_tf_idf,'models/tf_idf.pkl')"
   ]
  },
  {
   "cell_type": "code",
   "execution_count": 53,
   "id": "a0e96ad7-f5c5-469a-af66-f94df311817d",
   "metadata": {},
   "outputs": [
    {
     "data": {
      "text/plain": [
       "<35238x6305 sparse matrix of type '<class 'numpy.int64'>'\n",
       "\twith 241038 stored elements in Compressed Sparse Row format>"
      ]
     },
     "execution_count": 53,
     "metadata": {},
     "output_type": "execute_result"
    }
   ],
   "source": [
    "dataset"
   ]
  },
  {
   "cell_type": "code",
   "execution_count": 63,
   "id": "e035d673-42cb-476c-8929-9b8e0567a1f7",
   "metadata": {},
   "outputs": [],
   "source": [
    "class TopicModeler(object):\n",
    "    '''\n",
    "    Inteface object for CountVectorizer + LDA simple\n",
    "    usage.\n",
    "    '''\n",
    "    def __init__(self, count_vect, lda):\n",
    "        '''\n",
    "        Args:\n",
    "             count_vect - CountVectorizer object from sklearn.\n",
    "             lda - LDA object from sklearn.\n",
    "        '''\n",
    "        self.lda = lda\n",
    "        self.count_vect = count_vect\n",
    "        self.count_vect.input = 'content'\n",
    "        \n",
    "    def __call__(self, text):\n",
    "        '''\n",
    "        Gives topics distribution for a given text\n",
    "        Args:\n",
    "             text - raw text via python string.\n",
    "        returns: numpy array - topics distribution for a given text.\n",
    "        '''\n",
    "        vectorized = self.count_vect.transform([text])\n",
    "        lda_topics = self.lda.transform(vectorized)\n",
    "        return lda_topics\n",
    "    def get_keywords(self, text, n_topics=3, n_keywords=5):\n",
    "        '''\n",
    "        For a given text gives n top keywords for each of m top texts topics.\n",
    "        Args:\n",
    "             text - raw text via python string.\n",
    "             n_topics - int how many top topics to use.\n",
    "             n_keywords - how many top words of each topic to return.\n",
    "        returns:\n",
    "                list - of m*n keywords for a given text.\n",
    "        '''\n",
    "        lda_topics = self(text)\n",
    "        lda_topics = np.squeeze(lda_topics, axis=0)\n",
    "        n_topics_indices = lda_topics.argsort()[-n_topics:][::-1]\n",
    "        \n",
    "        top_topics_words_dists = []\n",
    "        for i in n_topics_indices:\n",
    "            top_topics_words_dists.append(self.lda.components_[i])\n",
    "        \n",
    "        keywords = np.zeros(shape=(n_keywords*n_topics, self.lda.components_.shape[1]))\n",
    "        for i,topic in enumerate(top_topics_words_dists):\n",
    "            n_keywords_indices = topic.argsort()[-n_keywords:][::-1]\n",
    "            for k,j in enumerate(n_keywords_indices):\n",
    "                keywords[i * n_keywords + k, j] = 1\n",
    "        keywords = self.count_vect.inverse_transform(keywords)\n",
    "        keywords = [keyword[0] for keyword in keywords]\n",
    "        return keywords  "
   ]
  },
  {
   "cell_type": "code",
   "execution_count": 64,
   "id": "a18ee289-63a0-4c7b-a913-123f1bb61f12",
   "metadata": {},
   "outputs": [],
   "source": [
    "tm = TopicModeler(count_vect, lda)"
   ]
  },
  {
   "cell_type": "code",
   "execution_count": null,
   "id": "7396df2b-eba8-405f-853f-ce0bbaa623e8",
   "metadata": {},
   "outputs": [],
   "source": [
    "des"
   ]
  },
  {
   "cell_type": "code",
   "execution_count": 66,
   "id": "abc358c2-c051-4fe9-bb99-538d0e2c626e",
   "metadata": {},
   "outputs": [
    {
     "data": {
      "text/plain": [
       "'this is the official source code of freecad a free and opensource multiplatform d parametric modeler issues are managed on our own bug tracker at www freecadweb org tracker'"
      ]
     },
     "execution_count": 66,
     "metadata": {},
     "output_type": "execute_result"
    }
   ],
   "source": [
    "descs[4]"
   ]
  },
  {
   "cell_type": "code",
   "execution_count": 118,
   "id": "8b981e2d-b259-4711-88b6-b8237cc9d020",
   "metadata": {},
   "outputs": [
    {
     "name": "stdout",
     "output_type": "stream",
     "text": [
      "['spring', 'security', 'cloud', 'boot', 'example', 'console', 'ip', 'logging', 'java', 'three']\n"
     ]
    }
   ],
   "source": [
    "key_words = tm.get_keywords(descs[4], n_topics=1, n_keywords=10)\n",
    "print(key_words)"
   ]
  },
  {
   "cell_type": "code",
   "execution_count": 69,
   "id": "ae233c16-1a96-49fa-be82-0c274b8e2fb7",
   "metadata": {},
   "outputs": [],
   "source": [
    " #getting n_top words indices for every topic\n",
    "sorted_words_coeffs = lda.components_.argsort(axis=1)\n",
    "n_top = 10\n",
    "top_coefs = sorted_words_coeffs[:,-n_top:][:,::-1]\n",
    "\n",
    "#making those texts consisting of top words\n",
    "vect_texts = np.zeros((top_coefs.shape[0], lda.components_.shape[1]),\n",
    "                       )\n",
    "for i,n_top_coefs in enumerate(top_coefs):\n",
    "    for coef in n_top_coefs:\n",
    "        vect_texts[i,coef] = 1"
   ]
  },
  {
   "cell_type": "code",
   "execution_count": 70,
   "id": "3b087b0e-dfc6-4328-850a-713fb74a6848",
   "metadata": {},
   "outputs": [
    {
     "name": "stdout",
     "output_type": "stream",
     "text": [
      "539\n"
     ]
    }
   ],
   "source": [
    "top_words = count_vect.inverse_transform(vect_texts)\n",
    "top_words_set = set()\n",
    "for words in top_words:\n",
    "    top_words_set.update(set(words))\n",
    "print(len(top_words_set))"
   ]
  },
  {
   "cell_type": "code",
   "execution_count": 71,
   "id": "0144adb9-14a8-4c87-965c-d0be9a7a86ef",
   "metadata": {},
   "outputs": [
    {
     "name": "stdout",
     "output_type": "stream",
     "text": [
      "(539,)\n"
     ]
    }
   ],
   "source": [
    "voc_to_idf = {word : i for i, word in enumerate(top_words_set)}\n",
    "tfidf_tw = TfidfVectorizer(vocabulary=voc_to_idf, stop_words=stopwords)\n",
    "tfidf_tw.fit(descs)\n",
    "\n",
    "idfs = tfidf_tw.idf_\n",
    "print(idfs.shape)"
   ]
  },
  {
   "cell_type": "code",
   "execution_count": 72,
   "id": "bb63907d-4710-44af-bfcf-2086749a04c6",
   "metadata": {},
   "outputs": [],
   "source": [
    "#computing n most common words\n",
    "n_top = int(idfs.shape[0] * 0.05)\n",
    "\n",
    "n_top_indices = np.argsort(idfs)[:n_top]\n",
    "\n",
    "vect_words = np.zeros((n_top, len(idfs)))"
   ]
  },
  {
   "cell_type": "code",
   "execution_count": 73,
   "id": "b0385677-5afe-46ae-bf66-0d6970480b37",
   "metadata": {},
   "outputs": [
    {
     "name": "stdout",
     "output_type": "stream",
     "text": [
      "26\n"
     ]
    }
   ],
   "source": [
    " #adding them to list.\n",
    "inv_voc_to_idf = { voc_to_idf[key] : key for key in voc_to_idf.keys()}\n",
    "extra_stop_words = []\n",
    "for ind in n_top_indices:\n",
    "    extra_stop_words.append(inv_voc_to_idf[ind])\n",
    "print(len(extra_stop_words))"
   ]
  },
  {
   "cell_type": "code",
   "execution_count": 74,
   "id": "d944ecef-e294-4a46-98dc-bfc92ad632bd",
   "metadata": {},
   "outputs": [
    {
     "name": "stdout",
     "output_type": "stream",
     "text": [
      "['library', 'web', 'framework', 'using', 'based', 'code', 'js', 'api', 'data', 'react', 'source', 'open', 'simple', 'python', 'plugin', 'app', 'tool', 'javascript', 'github', 'platform', 'android', 'server', 'node', 'learning', 'project', 'use']\n"
     ]
    }
   ],
   "source": [
    "print(extra_stop_words)"
   ]
  },
  {
   "cell_type": "code",
   "execution_count": 75,
   "id": "e65205b1-0774-49f9-8f7d-126e9a5df0b6",
   "metadata": {},
   "outputs": [],
   "source": [
    "term_doc_matrix = count_vect.transform(descs)\n",
    "embeddings = lda.transform(term_doc_matrix)"
   ]
  },
  {
   "cell_type": "code",
   "execution_count": 127,
   "id": "5309e23d-2d65-45bd-8861-edd5e50609bc",
   "metadata": {},
   "outputs": [],
   "source": [
    "term_doc_matrix_for_one = count_vect.transform([descs[4]])\n",
    "embeddings = lda.transform(term_doc_matrix_for_one)"
   ]
  },
  {
   "cell_type": "code",
   "execution_count": 128,
   "id": "5afe2223-f9e8-4445-bee8-01c400500e0b",
   "metadata": {},
   "outputs": [
    {
     "data": {
      "text/plain": [
       "array([[0.00104167, 0.00104167, 0.00104167, 0.00104167, 0.00104167,\n",
       "        0.00104167, 0.00104167, 0.00104167, 0.00104167, 0.00104167,\n",
       "        0.00104167, 0.05934964, 0.00104167, 0.00104167, 0.13023369,\n",
       "        0.00104167, 0.00104167, 0.00104167, 0.00104167, 0.00104167,\n",
       "        0.00104167, 0.00104167, 0.00104167, 0.00104167, 0.00104167,\n",
       "        0.00104167, 0.00104167, 0.12604167, 0.19334192, 0.00104167,\n",
       "        0.00104167, 0.00104167, 0.00104167, 0.00104167, 0.00104167,\n",
       "        0.00104167, 0.30874142, 0.12604167, 0.00104167, 0.00104167,\n",
       "        0.00104167, 0.00104167, 0.00104167, 0.00104167, 0.00104167,\n",
       "        0.00104167, 0.00104167, 0.00104167, 0.00104167, 0.00104167,\n",
       "        0.00104167, 0.00104167, 0.00104167, 0.00104167, 0.00104167,\n",
       "        0.00104167, 0.00104167, 0.00104167, 0.00104167, 0.00104167]])"
      ]
     },
     "execution_count": 128,
     "metadata": {},
     "output_type": "execute_result"
    }
   ],
   "source": [
    "embeddings"
   ]
  },
  {
   "cell_type": "code",
   "execution_count": 125,
   "id": "ef8c5a91-7edc-4396-aade-e534e56d60c7",
   "metadata": {},
   "outputs": [
    {
     "data": {
      "text/html": [
       "<div>\n",
       "<style scoped>\n",
       "    .dataframe tbody tr th:only-of-type {\n",
       "        vertical-align: middle;\n",
       "    }\n",
       "\n",
       "    .dataframe tbody tr th {\n",
       "        vertical-align: top;\n",
       "    }\n",
       "\n",
       "    .dataframe thead th {\n",
       "        text-align: right;\n",
       "    }\n",
       "</style>\n",
       "<table border=\"1\" class=\"dataframe\">\n",
       "  <thead>\n",
       "    <tr style=\"text-align: right;\">\n",
       "      <th></th>\n",
       "      <th>topic</th>\n",
       "      <th>name</th>\n",
       "      <th>owner</th>\n",
       "      <th>full_name</th>\n",
       "      <th>description</th>\n",
       "      <th>language</th>\n",
       "      <th>tags</th>\n",
       "      <th>open_issues</th>\n",
       "      <th>forks</th>\n",
       "      <th>stars</th>\n",
       "      <th>watchers</th>\n",
       "      <th>description_cleaned</th>\n",
       "      <th>embeddings_lda</th>\n",
       "    </tr>\n",
       "  </thead>\n",
       "  <tbody>\n",
       "    <tr>\n",
       "      <th>0</th>\n",
       "      <td>3d</td>\n",
       "      <td>three.js</td>\n",
       "      <td>mrdoob</td>\n",
       "      <td>mrdoob/three.js</td>\n",
       "      <td>JavaScript 3D Library.</td>\n",
       "      <td>JavaScript</td>\n",
       "      <td>['javascript', 'svg', 'webgl', 'html5', 'canva...</td>\n",
       "      <td>472</td>\n",
       "      <td>31277</td>\n",
       "      <td>80797</td>\n",
       "      <td>80797</td>\n",
       "      <td>javascript d library</td>\n",
       "      <td>[0.005555555555555608, 0.005555555555555608, 0...</td>\n",
       "    </tr>\n",
       "    <tr>\n",
       "      <th>4</th>\n",
       "      <td>3d</td>\n",
       "      <td>aframe</td>\n",
       "      <td>aframevr</td>\n",
       "      <td>aframevr/aframe</td>\n",
       "      <td>🅰️ web framework for building virtual reality ...</td>\n",
       "      <td>JavaScript</td>\n",
       "      <td>['html', 'threejs', 'game-engine', 'vr', 'webv...</td>\n",
       "      <td>360</td>\n",
       "      <td>3388</td>\n",
       "      <td>14003</td>\n",
       "      <td>14003</td>\n",
       "      <td>web framework for building viual reality expe...</td>\n",
       "      <td>[0.0023809523809524215, 0.0023809523809524215,...</td>\n",
       "    </tr>\n",
       "    <tr>\n",
       "      <th>5</th>\n",
       "      <td>3d</td>\n",
       "      <td>tinyrenderer</td>\n",
       "      <td>ssloy</td>\n",
       "      <td>ssloy/tinyrenderer</td>\n",
       "      <td>A brief computer graphics / rendering course</td>\n",
       "      <td>C++</td>\n",
       "      <td>['learning', 'c-plus-plus', 'fun', 'tutorial',...</td>\n",
       "      <td>28</td>\n",
       "      <td>1254</td>\n",
       "      <td>13424</td>\n",
       "      <td>13424</td>\n",
       "      <td>a brief computer graphics rendering course</td>\n",
       "      <td>[0.0027777777777780264, 0.0027777777777780264,...</td>\n",
       "    </tr>\n",
       "    <tr>\n",
       "      <th>6</th>\n",
       "      <td>3d</td>\n",
       "      <td>3d-game-shaders-for-beginners</td>\n",
       "      <td>lettier</td>\n",
       "      <td>lettier/3d-game-shaders-for-beginners</td>\n",
       "      <td>🎮 A step-by-step guide to implementing SSAO, d...</td>\n",
       "      <td>C++</td>\n",
       "      <td>['gamedev', 'webgl', 'opengl', 'unity', 'shade...</td>\n",
       "      <td>14</td>\n",
       "      <td>957</td>\n",
       "      <td>12567</td>\n",
       "      <td>12567</td>\n",
       "      <td>a step by step guide to implementing ssao dep...</td>\n",
       "      <td>[0.0015151515151518534, 0.0015151515151518534,...</td>\n",
       "    </tr>\n",
       "    <tr>\n",
       "      <th>7</th>\n",
       "      <td>3d</td>\n",
       "      <td>FreeCAD</td>\n",
       "      <td>FreeCAD</td>\n",
       "      <td>FreeCAD/FreeCAD</td>\n",
       "      <td>This is the official source code of FreeCAD, a...</td>\n",
       "      <td>C++</td>\n",
       "      <td>['windows', 'linux', 'engineering', 'architect...</td>\n",
       "      <td>754</td>\n",
       "      <td>2702</td>\n",
       "      <td>11073</td>\n",
       "      <td>11073</td>\n",
       "      <td>this is the official source code of freecad a ...</td>\n",
       "      <td>[0.0010416666666669273, 0.0010416666666669273,...</td>\n",
       "    </tr>\n",
       "    <tr>\n",
       "      <th>...</th>\n",
       "      <td>...</td>\n",
       "      <td>...</td>\n",
       "      <td>...</td>\n",
       "      <td>...</td>\n",
       "      <td>...</td>\n",
       "      <td>...</td>\n",
       "      <td>...</td>\n",
       "      <td>...</td>\n",
       "      <td>...</td>\n",
       "      <td>...</td>\n",
       "      <td>...</td>\n",
       "      <td>...</td>\n",
       "      <td>...</td>\n",
       "    </tr>\n",
       "    <tr>\n",
       "      <th>40627</th>\n",
       "      <td>xml</td>\n",
       "      <td>sepa_king</td>\n",
       "      <td>salesking</td>\n",
       "      <td>salesking/sepa_king</td>\n",
       "      <td>Ruby gem for creating SEPA XML files</td>\n",
       "      <td>Ruby</td>\n",
       "      <td>['ruby', 'rubygems', 'xml', 'payment', 'fintec...</td>\n",
       "      <td>11</td>\n",
       "      <td>106</td>\n",
       "      <td>128</td>\n",
       "      <td>128</td>\n",
       "      <td>ruby gem for creating sepa xml files</td>\n",
       "      <td>[0.0027777777777779926, 0.0027777777777779926,...</td>\n",
       "    </tr>\n",
       "    <tr>\n",
       "      <th>40628</th>\n",
       "      <td>xml</td>\n",
       "      <td>Sitemap</td>\n",
       "      <td>ThePixelDeveloper</td>\n",
       "      <td>ThePixelDeveloper/Sitemap</td>\n",
       "      <td>PHP XML Sitemap Generation</td>\n",
       "      <td>PHP</td>\n",
       "      <td>['php', 'sitemap', 'xml', 'xml-sitemap', 'site...</td>\n",
       "      <td>5</td>\n",
       "      <td>36</td>\n",
       "      <td>128</td>\n",
       "      <td>128</td>\n",
       "      <td>php xml sitemap generation</td>\n",
       "      <td>[0.003333333333334223, 0.003333333333334223, 0...</td>\n",
       "    </tr>\n",
       "    <tr>\n",
       "      <th>40629</th>\n",
       "      <td>xml</td>\n",
       "      <td>open-bibles</td>\n",
       "      <td>seven1m</td>\n",
       "      <td>seven1m/open-bibles</td>\n",
       "      <td>Repository of public domain and freely license...</td>\n",
       "      <td>Python</td>\n",
       "      <td>['xml', 'bible', 'bible-api']</td>\n",
       "      <td>0</td>\n",
       "      <td>36</td>\n",
       "      <td>126</td>\n",
       "      <td>126</td>\n",
       "      <td>repository of public domain and freely license...</td>\n",
       "      <td>[0.0018518518518527002, 0.0018518518518527002,...</td>\n",
       "    </tr>\n",
       "    <tr>\n",
       "      <th>40630</th>\n",
       "      <td>xml</td>\n",
       "      <td>fedramp-automation</td>\n",
       "      <td>GSA</td>\n",
       "      <td>GSA/fedramp-automation</td>\n",
       "      <td>FedRAMP Automation</td>\n",
       "      <td>XSLT</td>\n",
       "      <td>['json', 'automation', 'xml', 'sap', 'authoriz...</td>\n",
       "      <td>30</td>\n",
       "      <td>46</td>\n",
       "      <td>131</td>\n",
       "      <td>131</td>\n",
       "      <td>fedramp automation</td>\n",
       "      <td>[0.008333333333333406, 0.008333333333333406, 0...</td>\n",
       "    </tr>\n",
       "    <tr>\n",
       "      <th>40631</th>\n",
       "      <td>xml</td>\n",
       "      <td>soupsieve</td>\n",
       "      <td>facelessuser</td>\n",
       "      <td>facelessuser/soupsieve</td>\n",
       "      <td>A modern CSS selector implementation for Beaut...</td>\n",
       "      <td>Python</td>\n",
       "      <td>['css', 'python', 'html', 'html5', 'xml', 'css...</td>\n",
       "      <td>15</td>\n",
       "      <td>27</td>\n",
       "      <td>124</td>\n",
       "      <td>124</td>\n",
       "      <td>a modern css selector implementation for beaut...</td>\n",
       "      <td>[0.003333333333333845, 0.003333333333333845, 0...</td>\n",
       "    </tr>\n",
       "  </tbody>\n",
       "</table>\n",
       "<p>35238 rows × 13 columns</p>\n",
       "</div>"
      ],
      "text/plain": [
       "      topic                           name              owner  \\\n",
       "0        3d                       three.js             mrdoob   \n",
       "4        3d                         aframe           aframevr   \n",
       "5        3d                   tinyrenderer              ssloy   \n",
       "6        3d  3d-game-shaders-for-beginners            lettier   \n",
       "7        3d                        FreeCAD            FreeCAD   \n",
       "...     ...                            ...                ...   \n",
       "40627   xml                      sepa_king          salesking   \n",
       "40628   xml                        Sitemap  ThePixelDeveloper   \n",
       "40629   xml                    open-bibles            seven1m   \n",
       "40630   xml             fedramp-automation                GSA   \n",
       "40631   xml                      soupsieve       facelessuser   \n",
       "\n",
       "                                   full_name  \\\n",
       "0                            mrdoob/three.js   \n",
       "4                            aframevr/aframe   \n",
       "5                         ssloy/tinyrenderer   \n",
       "6      lettier/3d-game-shaders-for-beginners   \n",
       "7                            FreeCAD/FreeCAD   \n",
       "...                                      ...   \n",
       "40627                    salesking/sepa_king   \n",
       "40628              ThePixelDeveloper/Sitemap   \n",
       "40629                    seven1m/open-bibles   \n",
       "40630                 GSA/fedramp-automation   \n",
       "40631                 facelessuser/soupsieve   \n",
       "\n",
       "                                             description    language  \\\n",
       "0                                 JavaScript 3D Library.  JavaScript   \n",
       "4      🅰️ web framework for building virtual reality ...  JavaScript   \n",
       "5           A brief computer graphics / rendering course         C++   \n",
       "6      🎮 A step-by-step guide to implementing SSAO, d...         C++   \n",
       "7      This is the official source code of FreeCAD, a...         C++   \n",
       "...                                                  ...         ...   \n",
       "40627               Ruby gem for creating SEPA XML files        Ruby   \n",
       "40628                         PHP XML Sitemap Generation         PHP   \n",
       "40629  Repository of public domain and freely license...      Python   \n",
       "40630                                 FedRAMP Automation        XSLT   \n",
       "40631  A modern CSS selector implementation for Beaut...      Python   \n",
       "\n",
       "                                                    tags  open_issues  forks  \\\n",
       "0      ['javascript', 'svg', 'webgl', 'html5', 'canva...          472  31277   \n",
       "4      ['html', 'threejs', 'game-engine', 'vr', 'webv...          360   3388   \n",
       "5      ['learning', 'c-plus-plus', 'fun', 'tutorial',...           28   1254   \n",
       "6      ['gamedev', 'webgl', 'opengl', 'unity', 'shade...           14    957   \n",
       "7      ['windows', 'linux', 'engineering', 'architect...          754   2702   \n",
       "...                                                  ...          ...    ...   \n",
       "40627  ['ruby', 'rubygems', 'xml', 'payment', 'fintec...           11    106   \n",
       "40628  ['php', 'sitemap', 'xml', 'xml-sitemap', 'site...            5     36   \n",
       "40629                      ['xml', 'bible', 'bible-api']            0     36   \n",
       "40630  ['json', 'automation', 'xml', 'sap', 'authoriz...           30     46   \n",
       "40631  ['css', 'python', 'html', 'html5', 'xml', 'css...           15     27   \n",
       "\n",
       "       stars  watchers                                description_cleaned  \\\n",
       "0      80797     80797                              javascript d library    \n",
       "4      14003     14003   web framework for building viual reality expe...   \n",
       "5      13424     13424         a brief computer graphics rendering course   \n",
       "6      12567     12567   a step by step guide to implementing ssao dep...   \n",
       "7      11073     11073  this is the official source code of freecad a ...   \n",
       "...      ...       ...                                                ...   \n",
       "40627    128       128               ruby gem for creating sepa xml files   \n",
       "40628    128       128                         php xml sitemap generation   \n",
       "40629    126       126  repository of public domain and freely license...   \n",
       "40630    131       131                                 fedramp automation   \n",
       "40631    124       124  a modern css selector implementation for beaut...   \n",
       "\n",
       "                                          embeddings_lda  \n",
       "0      [0.005555555555555608, 0.005555555555555608, 0...  \n",
       "4      [0.0023809523809524215, 0.0023809523809524215,...  \n",
       "5      [0.0027777777777780264, 0.0027777777777780264,...  \n",
       "6      [0.0015151515151518534, 0.0015151515151518534,...  \n",
       "7      [0.0010416666666669273, 0.0010416666666669273,...  \n",
       "...                                                  ...  \n",
       "40627  [0.0027777777777779926, 0.0027777777777779926,...  \n",
       "40628  [0.003333333333334223, 0.003333333333334223, 0...  \n",
       "40629  [0.0018518518518527002, 0.0018518518518527002,...  \n",
       "40630  [0.008333333333333406, 0.008333333333333406, 0...  \n",
       "40631  [0.003333333333333845, 0.003333333333333845, 0...  \n",
       "\n",
       "[35238 rows x 13 columns]"
      ]
     },
     "execution_count": 125,
     "metadata": {},
     "output_type": "execute_result"
    }
   ],
   "source": [
    "data"
   ]
  },
  {
   "cell_type": "code",
   "execution_count": 77,
   "id": "126783ab-d022-4c66-b6a8-3ed1661f20bb",
   "metadata": {},
   "outputs": [
    {
     "data": {
      "text/plain": [
       "35238"
      ]
     },
     "execution_count": 77,
     "metadata": {},
     "output_type": "execute_result"
    }
   ],
   "source": [
    "len(embeddings)"
   ]
  },
  {
   "cell_type": "code",
   "execution_count": null,
   "id": "fbff3a80-3174-4e84-8c8b-175c4d0d90a7",
   "metadata": {},
   "outputs": [],
   "source": []
  },
  {
   "cell_type": "code",
   "execution_count": 82,
   "id": "cd6a8316-fdea-4be2-93d3-a8453d3d95d6",
   "metadata": {},
   "outputs": [
    {
     "data": {
      "text/plain": [
       "array([[0.00555556, 0.00555556, 0.00555556, ..., 0.00555556, 0.00555556,\n",
       "        0.00555556],\n",
       "       [0.00238095, 0.00238095, 0.00238095, ..., 0.00238095, 0.00238095,\n",
       "        0.00238095],\n",
       "       [0.00277778, 0.00277778, 0.00277778, ..., 0.00277778, 0.00277778,\n",
       "        0.00277778],\n",
       "       ...,\n",
       "       [0.00185185, 0.00185185, 0.00185185, ..., 0.00185185, 0.00185185,\n",
       "        0.00185185],\n",
       "       [0.00833333, 0.00833333, 0.00833333, ..., 0.00833333, 0.00833333,\n",
       "        0.00833333],\n",
       "       [0.00333333, 0.00333333, 0.20333333, ..., 0.00333333, 0.00333333,\n",
       "        0.00333333]])"
      ]
     },
     "execution_count": 82,
     "metadata": {},
     "output_type": "execute_result"
    }
   ],
   "source": [
    "embeddings"
   ]
  },
  {
   "cell_type": "code",
   "execution_count": 83,
   "id": "fed07845-3ebd-44b8-81a6-6d578962f8fc",
   "metadata": {},
   "outputs": [],
   "source": [
    "data['embeddings_lda'] = list(embeddings)"
   ]
  },
  {
   "cell_type": "code",
   "execution_count": 87,
   "id": "12f56e87-a4ca-42be-8a03-bf55f598cd84",
   "metadata": {},
   "outputs": [],
   "source": [
    "data = data.drop('Unnamed: 0', axis=1)"
   ]
  },
  {
   "cell_type": "code",
   "execution_count": 88,
   "id": "b3251f0b-2d3f-4a88-b37b-c62768c1c84a",
   "metadata": {},
   "outputs": [],
   "source": [
    "data.to_csv('recsys/data/repositories_embeddings_LDA_1.csv')"
   ]
  },
  {
   "cell_type": "code",
   "execution_count": 19,
   "id": "de57551a-0e5d-487f-9b4f-915ab0e62d3f",
   "metadata": {},
   "outputs": [],
   "source": [
    "from sklearn.manifold import TSNE"
   ]
  },
  {
   "cell_type": "code",
   "execution_count": 90,
   "id": "c38b85f9-1781-461a-a4cb-376d28c7fe84",
   "metadata": {},
   "outputs": [],
   "source": [
    "kmeans = KMeans(n_clusters=30)\n",
    "clust_labels = kmeans.fit_predict(embeddings)\n",
    "clust_centers = kmeans.cluster_centers_"
   ]
  },
  {
   "cell_type": "code",
   "execution_count": 91,
   "id": "6499fe35-e8af-46f1-947f-e12aa90c8671",
   "metadata": {},
   "outputs": [],
   "source": [
    "embeddings_to_tsne = np.concatenate((embeddings,clust_centers), axis=0)\n",
    "\n",
    "tSNE =  TSNE(n_components=2, perplexity=15)\n",
    "tsne_embeddings = tSNE.fit_transform(embeddings_to_tsne)\n",
    "tsne_embeddings, centroids_embeddings = np.split(tsne_embeddings, [len(clust_labels)], axis=0)"
   ]
  },
  {
   "cell_type": "code",
   "execution_count": 93,
   "id": "b3d13b37-94a8-456c-a59d-0311f7f479c5",
   "metadata": {},
   "outputs": [
    {
     "name": "stdout",
     "output_type": "stream",
     "text": [
      "(35238, 2) (30, 2)\n"
     ]
    }
   ],
   "source": [
    "print(tsne_embeddings.shape,centroids_embeddings.shape)"
   ]
  },
  {
   "cell_type": "code",
   "execution_count": 96,
   "id": "ace336b2-6b5d-41cc-b5d6-031ecebfc25a",
   "metadata": {},
   "outputs": [],
   "source": [
    "clust_indices = np.unique(clust_labels)\n",
    "\n",
    "clusters = {clust_ind : [] for clust_ind in clust_indices}\n",
    "for emb, label in zip(tsne_embeddings, clust_labels):\n",
    "    clusters[label].append(emb)\n",
    "\n",
    "for key in clusters.keys():\n",
    "    clusters[key] = np.array(clusters[key])\n",
    "colors = cm.rainbow(np.linspace(0, 1, len(clust_indices)))"
   ]
  },
  {
   "cell_type": "code",
   "execution_count": 97,
   "id": "516f81e1-7d36-44e5-b512-cccd86d9a7b9",
   "metadata": {},
   "outputs": [
    {
     "data": {
      "image/png": "[encoded data removed]",
      "text/plain": [
       "<Figure size 720x720 with 1 Axes>"
      ]
     },
     "metadata": {
      "needs_background": "light"
     },
     "output_type": "display_data"
    }
   ],
   "source": [
    "plt.figure(figsize=(10,10))\n",
    "for ind, color in zip(clust_indices, colors):\n",
    "    x = clusters[ind][:,0]\n",
    "    y = clusters[ind][:,1]\n",
    "    plt.scatter(x, y, color=color)\n",
    "    \n",
    "    centroid = centroids_embeddings[ind]\n",
    "    plt.scatter(centroid[0],centroid[1], color=color, marker='x', s=100)\n",
    "\n",
    "plt.show()"
   ]
  },
  {
   "cell_type": "code",
   "execution_count": 100,
   "id": "d55d7826-f3c2-41ae-91c8-bda22a4d85cb",
   "metadata": {},
   "outputs": [
    {
     "data": {
      "text/plain": [
       "60"
      ]
     },
     "execution_count": 100,
     "metadata": {},
     "output_type": "execute_result"
    }
   ],
   "source": [
    "dim = len(data['embeddings_lda'].iloc[0])\n",
    "dim"
   ]
  },
  {
   "cell_type": "code",
   "execution_count": 102,
   "id": "d823625d-608f-4a4f-a9d1-d21dd348d5a6",
   "metadata": {},
   "outputs": [],
   "source": [
    "repos_ann = AnnoyIndex(dim, 'angular')  # Length of item vector that will be indexed\n",
    "repos_mapping = {}\n",
    "for i, (repo_id, e) in enumerate(data['embeddings_lda'].iteritems()):\n",
    "    repos_ann.add_item(i, list(e))\n",
    "    repos_mapping[repo_id] = i"
   ]
  },
  {
   "cell_type": "code",
   "execution_count": 103,
   "id": "657701f9-ba74-4e31-819e-ebef93f2fb5e",
   "metadata": {},
   "outputs": [
    {
     "name": "stdout",
     "output_type": "stream",
     "text": [
      "Wall time: 28.8 s\n"
     ]
    },
    {
     "data": {
      "text/plain": [
       "True"
      ]
     },
     "execution_count": 103,
     "metadata": {},
     "output_type": "execute_result"
    }
   ],
   "source": [
    "n_trees = 1_000\n",
    "\n",
    "%time repos_ann.build(n_trees)"
   ]
  },
  {
   "cell_type": "code",
   "execution_count": 104,
   "id": "cacc009c-5466-4fca-9a30-0daf4803eabe",
   "metadata": {},
   "outputs": [],
   "source": [
    "repos_ann.save('models/repos.ann')\n",
    "pd.to_pickle(repos_mapping, 'models/repos_mapping.pkl')"
   ]
  },
  {
   "cell_type": "code",
   "execution_count": 105,
   "id": "7ae3f59b-7c07-47db-b60a-7ae038fab1ed",
   "metadata": {},
   "outputs": [
    {
     "data": {
      "text/plain": [
       "35238"
      ]
     },
     "execution_count": 105,
     "metadata": {},
     "output_type": "execute_result"
    }
   ],
   "source": [
    "repos_ann = AnnoyIndex(dim, 'angular')\n",
    "repos_ann.load('./models/repos.ann') # super fast, will just mmap the file\n",
    "repos_mapping = pd.read_pickle('./models/repos_mapping.pkl')\n",
    "repos_mapping_rev = {v: k for k, v in repos_mapping.items()}\n",
    "len(repos_mapping)"
   ]
  },
  {
   "cell_type": "code",
   "execution_count": 111,
   "id": "8e5070a1-d14b-490c-ad17-d1aba4f3cea4",
   "metadata": {},
   "outputs": [],
   "source": [
    "def get_nns_by_repo_id(repo_id, n_nn=10):\n",
    "    res, dist = repos_ann.get_nns_by_item(repos_mapping[repo_id], n_nn, include_distances=True) # will find the n nearest neighbors\n",
    "    res = [repos_mapping_rev[r] for r in res]\n",
    "    res = data.loc[res]\n",
    "    res['distance'] = [round(d, 3) for d in dist]\n",
    "    return res"
   ]
  },
  {
   "cell_type": "code",
   "execution_count": 108,
   "id": "80835065-1ad7-4aa1-baca-c13c58c978a8",
   "metadata": {},
   "outputs": [
    {
     "data": {
      "text/html": [
       "<div>\n",
       "<style scoped>\n",
       "    .dataframe tbody tr th:only-of-type {\n",
       "        vertical-align: middle;\n",
       "    }\n",
       "\n",
       "    .dataframe tbody tr th {\n",
       "        vertical-align: top;\n",
       "    }\n",
       "\n",
       "    .dataframe thead th {\n",
       "        text-align: right;\n",
       "    }\n",
       "</style>\n",
       "<table border=\"1\" class=\"dataframe\">\n",
       "  <thead>\n",
       "    <tr style=\"text-align: right;\">\n",
       "      <th></th>\n",
       "      <th>topic</th>\n",
       "      <th>name</th>\n",
       "      <th>owner</th>\n",
       "      <th>full_name</th>\n",
       "      <th>description</th>\n",
       "      <th>language</th>\n",
       "      <th>tags</th>\n",
       "      <th>open_issues</th>\n",
       "      <th>forks</th>\n",
       "      <th>stars</th>\n",
       "      <th>watchers</th>\n",
       "      <th>description_cleaned</th>\n",
       "      <th>embeddings_lda</th>\n",
       "    </tr>\n",
       "  </thead>\n",
       "  <tbody>\n",
       "    <tr>\n",
       "      <th>0</th>\n",
       "      <td>3d</td>\n",
       "      <td>three.js</td>\n",
       "      <td>mrdoob</td>\n",
       "      <td>mrdoob/three.js</td>\n",
       "      <td>JavaScript 3D Library.</td>\n",
       "      <td>JavaScript</td>\n",
       "      <td>['javascript', 'svg', 'webgl', 'html5', 'canva...</td>\n",
       "      <td>472</td>\n",
       "      <td>31277</td>\n",
       "      <td>80797</td>\n",
       "      <td>80797</td>\n",
       "      <td>javascript d library</td>\n",
       "      <td>[0.005555555555555608, 0.005555555555555608, 0...</td>\n",
       "    </tr>\n",
       "    <tr>\n",
       "      <th>4</th>\n",
       "      <td>3d</td>\n",
       "      <td>aframe</td>\n",
       "      <td>aframevr</td>\n",
       "      <td>aframevr/aframe</td>\n",
       "      <td>🅰️ web framework for building virtual reality ...</td>\n",
       "      <td>JavaScript</td>\n",
       "      <td>['html', 'threejs', 'game-engine', 'vr', 'webv...</td>\n",
       "      <td>360</td>\n",
       "      <td>3388</td>\n",
       "      <td>14003</td>\n",
       "      <td>14003</td>\n",
       "      <td>web framework for building viual reality expe...</td>\n",
       "      <td>[0.0023809523809524215, 0.0023809523809524215,...</td>\n",
       "    </tr>\n",
       "    <tr>\n",
       "      <th>5</th>\n",
       "      <td>3d</td>\n",
       "      <td>tinyrenderer</td>\n",
       "      <td>ssloy</td>\n",
       "      <td>ssloy/tinyrenderer</td>\n",
       "      <td>A brief computer graphics / rendering course</td>\n",
       "      <td>C++</td>\n",
       "      <td>['learning', 'c-plus-plus', 'fun', 'tutorial',...</td>\n",
       "      <td>28</td>\n",
       "      <td>1254</td>\n",
       "      <td>13424</td>\n",
       "      <td>13424</td>\n",
       "      <td>a brief computer graphics rendering course</td>\n",
       "      <td>[0.0027777777777780264, 0.0027777777777780264,...</td>\n",
       "    </tr>\n",
       "    <tr>\n",
       "      <th>6</th>\n",
       "      <td>3d</td>\n",
       "      <td>3d-game-shaders-for-beginners</td>\n",
       "      <td>lettier</td>\n",
       "      <td>lettier/3d-game-shaders-for-beginners</td>\n",
       "      <td>🎮 A step-by-step guide to implementing SSAO, d...</td>\n",
       "      <td>C++</td>\n",
       "      <td>['gamedev', 'webgl', 'opengl', 'unity', 'shade...</td>\n",
       "      <td>14</td>\n",
       "      <td>957</td>\n",
       "      <td>12567</td>\n",
       "      <td>12567</td>\n",
       "      <td>a step by step guide to implementing ssao dep...</td>\n",
       "      <td>[0.0015151515151518534, 0.0015151515151518534,...</td>\n",
       "    </tr>\n",
       "    <tr>\n",
       "      <th>7</th>\n",
       "      <td>3d</td>\n",
       "      <td>FreeCAD</td>\n",
       "      <td>FreeCAD</td>\n",
       "      <td>FreeCAD/FreeCAD</td>\n",
       "      <td>This is the official source code of FreeCAD, a...</td>\n",
       "      <td>C++</td>\n",
       "      <td>['windows', 'linux', 'engineering', 'architect...</td>\n",
       "      <td>754</td>\n",
       "      <td>2702</td>\n",
       "      <td>11073</td>\n",
       "      <td>11073</td>\n",
       "      <td>this is the official source code of freecad a ...</td>\n",
       "      <td>[0.0010416666666669273, 0.0010416666666669273,...</td>\n",
       "    </tr>\n",
       "    <tr>\n",
       "      <th>...</th>\n",
       "      <td>...</td>\n",
       "      <td>...</td>\n",
       "      <td>...</td>\n",
       "      <td>...</td>\n",
       "      <td>...</td>\n",
       "      <td>...</td>\n",
       "      <td>...</td>\n",
       "      <td>...</td>\n",
       "      <td>...</td>\n",
       "      <td>...</td>\n",
       "      <td>...</td>\n",
       "      <td>...</td>\n",
       "      <td>...</td>\n",
       "    </tr>\n",
       "    <tr>\n",
       "      <th>40627</th>\n",
       "      <td>xml</td>\n",
       "      <td>sepa_king</td>\n",
       "      <td>salesking</td>\n",
       "      <td>salesking/sepa_king</td>\n",
       "      <td>Ruby gem for creating SEPA XML files</td>\n",
       "      <td>Ruby</td>\n",
       "      <td>['ruby', 'rubygems', 'xml', 'payment', 'fintec...</td>\n",
       "      <td>11</td>\n",
       "      <td>106</td>\n",
       "      <td>128</td>\n",
       "      <td>128</td>\n",
       "      <td>ruby gem for creating sepa xml files</td>\n",
       "      <td>[0.0027777777777779926, 0.0027777777777779926,...</td>\n",
       "    </tr>\n",
       "    <tr>\n",
       "      <th>40628</th>\n",
       "      <td>xml</td>\n",
       "      <td>Sitemap</td>\n",
       "      <td>ThePixelDeveloper</td>\n",
       "      <td>ThePixelDeveloper/Sitemap</td>\n",
       "      <td>PHP XML Sitemap Generation</td>\n",
       "      <td>PHP</td>\n",
       "      <td>['php', 'sitemap', 'xml', 'xml-sitemap', 'site...</td>\n",
       "      <td>5</td>\n",
       "      <td>36</td>\n",
       "      <td>128</td>\n",
       "      <td>128</td>\n",
       "      <td>php xml sitemap generation</td>\n",
       "      <td>[0.003333333333334223, 0.003333333333334223, 0...</td>\n",
       "    </tr>\n",
       "    <tr>\n",
       "      <th>40629</th>\n",
       "      <td>xml</td>\n",
       "      <td>open-bibles</td>\n",
       "      <td>seven1m</td>\n",
       "      <td>seven1m/open-bibles</td>\n",
       "      <td>Repository of public domain and freely license...</td>\n",
       "      <td>Python</td>\n",
       "      <td>['xml', 'bible', 'bible-api']</td>\n",
       "      <td>0</td>\n",
       "      <td>36</td>\n",
       "      <td>126</td>\n",
       "      <td>126</td>\n",
       "      <td>repository of public domain and freely license...</td>\n",
       "      <td>[0.0018518518518527002, 0.0018518518518527002,...</td>\n",
       "    </tr>\n",
       "    <tr>\n",
       "      <th>40630</th>\n",
       "      <td>xml</td>\n",
       "      <td>fedramp-automation</td>\n",
       "      <td>GSA</td>\n",
       "      <td>GSA/fedramp-automation</td>\n",
       "      <td>FedRAMP Automation</td>\n",
       "      <td>XSLT</td>\n",
       "      <td>['json', 'automation', 'xml', 'sap', 'authoriz...</td>\n",
       "      <td>30</td>\n",
       "      <td>46</td>\n",
       "      <td>131</td>\n",
       "      <td>131</td>\n",
       "      <td>fedramp automation</td>\n",
       "      <td>[0.008333333333333406, 0.008333333333333406, 0...</td>\n",
       "    </tr>\n",
       "    <tr>\n",
       "      <th>40631</th>\n",
       "      <td>xml</td>\n",
       "      <td>soupsieve</td>\n",
       "      <td>facelessuser</td>\n",
       "      <td>facelessuser/soupsieve</td>\n",
       "      <td>A modern CSS selector implementation for Beaut...</td>\n",
       "      <td>Python</td>\n",
       "      <td>['css', 'python', 'html', 'html5', 'xml', 'css...</td>\n",
       "      <td>15</td>\n",
       "      <td>27</td>\n",
       "      <td>124</td>\n",
       "      <td>124</td>\n",
       "      <td>a modern css selector implementation for beaut...</td>\n",
       "      <td>[0.003333333333333845, 0.003333333333333845, 0...</td>\n",
       "    </tr>\n",
       "  </tbody>\n",
       "</table>\n",
       "<p>35238 rows × 13 columns</p>\n",
       "</div>"
      ],
      "text/plain": [
       "      topic                           name              owner  \\\n",
       "0        3d                       three.js             mrdoob   \n",
       "4        3d                         aframe           aframevr   \n",
       "5        3d                   tinyrenderer              ssloy   \n",
       "6        3d  3d-game-shaders-for-beginners            lettier   \n",
       "7        3d                        FreeCAD            FreeCAD   \n",
       "...     ...                            ...                ...   \n",
       "40627   xml                      sepa_king          salesking   \n",
       "40628   xml                        Sitemap  ThePixelDeveloper   \n",
       "40629   xml                    open-bibles            seven1m   \n",
       "40630   xml             fedramp-automation                GSA   \n",
       "40631   xml                      soupsieve       facelessuser   \n",
       "\n",
       "                                   full_name  \\\n",
       "0                            mrdoob/three.js   \n",
       "4                            aframevr/aframe   \n",
       "5                         ssloy/tinyrenderer   \n",
       "6      lettier/3d-game-shaders-for-beginners   \n",
       "7                            FreeCAD/FreeCAD   \n",
       "...                                      ...   \n",
       "40627                    salesking/sepa_king   \n",
       "40628              ThePixelDeveloper/Sitemap   \n",
       "40629                    seven1m/open-bibles   \n",
       "40630                 GSA/fedramp-automation   \n",
       "40631                 facelessuser/soupsieve   \n",
       "\n",
       "                                             description    language  \\\n",
       "0                                 JavaScript 3D Library.  JavaScript   \n",
       "4      🅰️ web framework for building virtual reality ...  JavaScript   \n",
       "5           A brief computer graphics / rendering course         C++   \n",
       "6      🎮 A step-by-step guide to implementing SSAO, d...         C++   \n",
       "7      This is the official source code of FreeCAD, a...         C++   \n",
       "...                                                  ...         ...   \n",
       "40627               Ruby gem for creating SEPA XML files        Ruby   \n",
       "40628                         PHP XML Sitemap Generation         PHP   \n",
       "40629  Repository of public domain and freely license...      Python   \n",
       "40630                                 FedRAMP Automation        XSLT   \n",
       "40631  A modern CSS selector implementation for Beaut...      Python   \n",
       "\n",
       "                                                    tags  open_issues  forks  \\\n",
       "0      ['javascript', 'svg', 'webgl', 'html5', 'canva...          472  31277   \n",
       "4      ['html', 'threejs', 'game-engine', 'vr', 'webv...          360   3388   \n",
       "5      ['learning', 'c-plus-plus', 'fun', 'tutorial',...           28   1254   \n",
       "6      ['gamedev', 'webgl', 'opengl', 'unity', 'shade...           14    957   \n",
       "7      ['windows', 'linux', 'engineering', 'architect...          754   2702   \n",
       "...                                                  ...          ...    ...   \n",
       "40627  ['ruby', 'rubygems', 'xml', 'payment', 'fintec...           11    106   \n",
       "40628  ['php', 'sitemap', 'xml', 'xml-sitemap', 'site...            5     36   \n",
       "40629                      ['xml', 'bible', 'bible-api']            0     36   \n",
       "40630  ['json', 'automation', 'xml', 'sap', 'authoriz...           30     46   \n",
       "40631  ['css', 'python', 'html', 'html5', 'xml', 'css...           15     27   \n",
       "\n",
       "       stars  watchers                                description_cleaned  \\\n",
       "0      80797     80797                              javascript d library    \n",
       "4      14003     14003   web framework for building viual reality expe...   \n",
       "5      13424     13424         a brief computer graphics rendering course   \n",
       "6      12567     12567   a step by step guide to implementing ssao dep...   \n",
       "7      11073     11073  this is the official source code of freecad a ...   \n",
       "...      ...       ...                                                ...   \n",
       "40627    128       128               ruby gem for creating sepa xml files   \n",
       "40628    128       128                         php xml sitemap generation   \n",
       "40629    126       126  repository of public domain and freely license...   \n",
       "40630    131       131                                 fedramp automation   \n",
       "40631    124       124  a modern css selector implementation for beaut...   \n",
       "\n",
       "                                          embeddings_lda  \n",
       "0      [0.005555555555555608, 0.005555555555555608, 0...  \n",
       "4      [0.0023809523809524215, 0.0023809523809524215,...  \n",
       "5      [0.0027777777777780264, 0.0027777777777780264,...  \n",
       "6      [0.0015151515151518534, 0.0015151515151518534,...  \n",
       "7      [0.0010416666666669273, 0.0010416666666669273,...  \n",
       "...                                                  ...  \n",
       "40627  [0.0027777777777779926, 0.0027777777777779926,...  \n",
       "40628  [0.003333333333334223, 0.003333333333334223, 0...  \n",
       "40629  [0.0018518518518527002, 0.0018518518518527002,...  \n",
       "40630  [0.008333333333333406, 0.008333333333333406, 0...  \n",
       "40631  [0.003333333333333845, 0.003333333333333845, 0...  \n",
       "\n",
       "[35238 rows x 13 columns]"
      ]
     },
     "execution_count": 108,
     "metadata": {},
     "output_type": "execute_result"
    }
   ],
   "source": [
    "data"
   ]
  },
  {
   "cell_type": "code",
   "execution_count": 109,
   "id": "b5104d39-7896-44df-8570-13365210337f",
   "metadata": {},
   "outputs": [
    {
     "data": {
      "text/html": [
       "<div>\n",
       "<style scoped>\n",
       "    .dataframe tbody tr th:only-of-type {\n",
       "        vertical-align: middle;\n",
       "    }\n",
       "\n",
       "    .dataframe tbody tr th {\n",
       "        vertical-align: top;\n",
       "    }\n",
       "\n",
       "    .dataframe thead th {\n",
       "        text-align: right;\n",
       "    }\n",
       "</style>\n",
       "<table border=\"1\" class=\"dataframe\">\n",
       "  <thead>\n",
       "    <tr style=\"text-align: right;\">\n",
       "      <th></th>\n",
       "      <th>topic</th>\n",
       "      <th>name</th>\n",
       "      <th>owner</th>\n",
       "      <th>full_name</th>\n",
       "      <th>description</th>\n",
       "      <th>language</th>\n",
       "      <th>tags</th>\n",
       "      <th>open_issues</th>\n",
       "      <th>forks</th>\n",
       "      <th>stars</th>\n",
       "      <th>watchers</th>\n",
       "      <th>description_cleaned</th>\n",
       "      <th>embeddings_lda</th>\n",
       "    </tr>\n",
       "  </thead>\n",
       "  <tbody>\n",
       "    <tr>\n",
       "      <th>19529</th>\n",
       "      <td>java</td>\n",
       "      <td>spark</td>\n",
       "      <td>apache</td>\n",
       "      <td>apache/spark</td>\n",
       "      <td>Apache Spark - A unified analytics engine for ...</td>\n",
       "      <td>Scala</td>\n",
       "      <td>['python', 'java', 'r', 'scala', 'sql', 'big-d...</td>\n",
       "      <td>217</td>\n",
       "      <td>25454</td>\n",
       "      <td>32515</td>\n",
       "      <td>32515</td>\n",
       "      <td>apache spark a unified analytics engine for la...</td>\n",
       "      <td>[0.0016666666666667572, 0.0016666666666667572,...</td>\n",
       "    </tr>\n",
       "    <tr>\n",
       "      <th>30227</th>\n",
       "      <td>python</td>\n",
       "      <td>spark</td>\n",
       "      <td>apache</td>\n",
       "      <td>apache/spark</td>\n",
       "      <td>Apache Spark - A unified analytics engine for ...</td>\n",
       "      <td>Scala</td>\n",
       "      <td>['python', 'java', 'r', 'scala', 'sql', 'big-d...</td>\n",
       "      <td>223</td>\n",
       "      <td>25456</td>\n",
       "      <td>32519</td>\n",
       "      <td>32519</td>\n",
       "      <td>apache spark a unified analytics engine for la...</td>\n",
       "      <td>[0.0016666666666667572, 0.0016666666666667572,...</td>\n",
       "    </tr>\n",
       "    <tr>\n",
       "      <th>30494</th>\n",
       "      <td>r</td>\n",
       "      <td>spark</td>\n",
       "      <td>apache</td>\n",
       "      <td>apache/spark</td>\n",
       "      <td>Apache Spark - A unified analytics engine for ...</td>\n",
       "      <td>Scala</td>\n",
       "      <td>['python', 'java', 'r', 'scala', 'sql', 'big-d...</td>\n",
       "      <td>223</td>\n",
       "      <td>25456</td>\n",
       "      <td>32519</td>\n",
       "      <td>32519</td>\n",
       "      <td>apache spark a unified analytics engine for la...</td>\n",
       "      <td>[0.0016666666666667572, 0.0016666666666667572,...</td>\n",
       "    </tr>\n",
       "    <tr>\n",
       "      <th>32791</th>\n",
       "      <td>scala</td>\n",
       "      <td>spark</td>\n",
       "      <td>apache</td>\n",
       "      <td>apache/spark</td>\n",
       "      <td>Apache Spark - A unified analytics engine for ...</td>\n",
       "      <td>Scala</td>\n",
       "      <td>['python', 'java', 'r', 'scala', 'sql', 'big-d...</td>\n",
       "      <td>223</td>\n",
       "      <td>25455</td>\n",
       "      <td>32520</td>\n",
       "      <td>32520</td>\n",
       "      <td>apache spark a unified analytics engine for la...</td>\n",
       "      <td>[0.0016666666666667572, 0.0016666666666667572,...</td>\n",
       "    </tr>\n",
       "    <tr>\n",
       "      <th>34861</th>\n",
       "      <td>sql</td>\n",
       "      <td>spark</td>\n",
       "      <td>apache</td>\n",
       "      <td>apache/spark</td>\n",
       "      <td>Apache Spark - A unified analytics engine for ...</td>\n",
       "      <td>Scala</td>\n",
       "      <td>['python', 'java', 'r', 'scala', 'sql', 'big-d...</td>\n",
       "      <td>223</td>\n",
       "      <td>25455</td>\n",
       "      <td>32520</td>\n",
       "      <td>32520</td>\n",
       "      <td>apache spark a unified analytics engine for la...</td>\n",
       "      <td>[0.0016666666666667572, 0.0016666666666667572,...</td>\n",
       "    </tr>\n",
       "  </tbody>\n",
       "</table>\n",
       "</div>"
      ],
      "text/plain": [
       "        topic   name   owner     full_name  \\\n",
       "19529    java  spark  apache  apache/spark   \n",
       "30227  python  spark  apache  apache/spark   \n",
       "30494       r  spark  apache  apache/spark   \n",
       "32791   scala  spark  apache  apache/spark   \n",
       "34861     sql  spark  apache  apache/spark   \n",
       "\n",
       "                                             description language  \\\n",
       "19529  Apache Spark - A unified analytics engine for ...    Scala   \n",
       "30227  Apache Spark - A unified analytics engine for ...    Scala   \n",
       "30494  Apache Spark - A unified analytics engine for ...    Scala   \n",
       "32791  Apache Spark - A unified analytics engine for ...    Scala   \n",
       "34861  Apache Spark - A unified analytics engine for ...    Scala   \n",
       "\n",
       "                                                    tags  open_issues  forks  \\\n",
       "19529  ['python', 'java', 'r', 'scala', 'sql', 'big-d...          217  25454   \n",
       "30227  ['python', 'java', 'r', 'scala', 'sql', 'big-d...          223  25456   \n",
       "30494  ['python', 'java', 'r', 'scala', 'sql', 'big-d...          223  25456   \n",
       "32791  ['python', 'java', 'r', 'scala', 'sql', 'big-d...          223  25455   \n",
       "34861  ['python', 'java', 'r', 'scala', 'sql', 'big-d...          223  25455   \n",
       "\n",
       "       stars  watchers                                description_cleaned  \\\n",
       "19529  32515     32515  apache spark a unified analytics engine for la...   \n",
       "30227  32519     32519  apache spark a unified analytics engine for la...   \n",
       "30494  32519     32519  apache spark a unified analytics engine for la...   \n",
       "32791  32520     32520  apache spark a unified analytics engine for la...   \n",
       "34861  32520     32520  apache spark a unified analytics engine for la...   \n",
       "\n",
       "                                          embeddings_lda  \n",
       "19529  [0.0016666666666667572, 0.0016666666666667572,...  \n",
       "30227  [0.0016666666666667572, 0.0016666666666667572,...  \n",
       "30494  [0.0016666666666667572, 0.0016666666666667572,...  \n",
       "32791  [0.0016666666666667572, 0.0016666666666667572,...  \n",
       "34861  [0.0016666666666667572, 0.0016666666666667572,...  "
      ]
     },
     "execution_count": 109,
     "metadata": {},
     "output_type": "execute_result"
    }
   ],
   "source": [
    "repo_query = 'apache/spark'\n",
    "\n",
    "data[data['full_name'].str.lower().str.contains(repo_query)]"
   ]
  },
  {
   "cell_type": "code",
   "execution_count": 113,
   "id": "a94a56bf-faea-4b7c-b969-63d7a832d9d7",
   "metadata": {},
   "outputs": [
    {
     "data": {
      "text/html": [
       "<div>\n",
       "<style scoped>\n",
       "    .dataframe tbody tr th:only-of-type {\n",
       "        vertical-align: middle;\n",
       "    }\n",
       "\n",
       "    .dataframe tbody tr th {\n",
       "        vertical-align: top;\n",
       "    }\n",
       "\n",
       "    .dataframe thead th {\n",
       "        text-align: right;\n",
       "    }\n",
       "</style>\n",
       "<table border=\"1\" class=\"dataframe\">\n",
       "  <thead>\n",
       "    <tr style=\"text-align: right;\">\n",
       "      <th></th>\n",
       "      <th>topic</th>\n",
       "      <th>name</th>\n",
       "      <th>owner</th>\n",
       "      <th>full_name</th>\n",
       "      <th>description</th>\n",
       "      <th>language</th>\n",
       "      <th>tags</th>\n",
       "      <th>open_issues</th>\n",
       "      <th>forks</th>\n",
       "      <th>stars</th>\n",
       "      <th>watchers</th>\n",
       "      <th>description_cleaned</th>\n",
       "      <th>embeddings_lda</th>\n",
       "    </tr>\n",
       "  </thead>\n",
       "  <tbody>\n",
       "    <tr>\n",
       "      <th>0</th>\n",
       "      <td>3d</td>\n",
       "      <td>three.js</td>\n",
       "      <td>mrdoob</td>\n",
       "      <td>mrdoob/three.js</td>\n",
       "      <td>JavaScript 3D Library.</td>\n",
       "      <td>JavaScript</td>\n",
       "      <td>['javascript', 'svg', 'webgl', 'html5', 'canva...</td>\n",
       "      <td>472</td>\n",
       "      <td>31277</td>\n",
       "      <td>80797</td>\n",
       "      <td>80797</td>\n",
       "      <td>javascript d library</td>\n",
       "      <td>[0.005555555555555608, 0.005555555555555608, 0...</td>\n",
       "    </tr>\n",
       "    <tr>\n",
       "      <th>4</th>\n",
       "      <td>3d</td>\n",
       "      <td>aframe</td>\n",
       "      <td>aframevr</td>\n",
       "      <td>aframevr/aframe</td>\n",
       "      <td>🅰️ web framework for building virtual reality ...</td>\n",
       "      <td>JavaScript</td>\n",
       "      <td>['html', 'threejs', 'game-engine', 'vr', 'webv...</td>\n",
       "      <td>360</td>\n",
       "      <td>3388</td>\n",
       "      <td>14003</td>\n",
       "      <td>14003</td>\n",
       "      <td>web framework for building viual reality expe...</td>\n",
       "      <td>[0.0023809523809524215, 0.0023809523809524215,...</td>\n",
       "    </tr>\n",
       "    <tr>\n",
       "      <th>5</th>\n",
       "      <td>3d</td>\n",
       "      <td>tinyrenderer</td>\n",
       "      <td>ssloy</td>\n",
       "      <td>ssloy/tinyrenderer</td>\n",
       "      <td>A brief computer graphics / rendering course</td>\n",
       "      <td>C++</td>\n",
       "      <td>['learning', 'c-plus-plus', 'fun', 'tutorial',...</td>\n",
       "      <td>28</td>\n",
       "      <td>1254</td>\n",
       "      <td>13424</td>\n",
       "      <td>13424</td>\n",
       "      <td>a brief computer graphics rendering course</td>\n",
       "      <td>[0.0027777777777780264, 0.0027777777777780264,...</td>\n",
       "    </tr>\n",
       "    <tr>\n",
       "      <th>6</th>\n",
       "      <td>3d</td>\n",
       "      <td>3d-game-shaders-for-beginners</td>\n",
       "      <td>lettier</td>\n",
       "      <td>lettier/3d-game-shaders-for-beginners</td>\n",
       "      <td>🎮 A step-by-step guide to implementing SSAO, d...</td>\n",
       "      <td>C++</td>\n",
       "      <td>['gamedev', 'webgl', 'opengl', 'unity', 'shade...</td>\n",
       "      <td>14</td>\n",
       "      <td>957</td>\n",
       "      <td>12567</td>\n",
       "      <td>12567</td>\n",
       "      <td>a step by step guide to implementing ssao dep...</td>\n",
       "      <td>[0.0015151515151518534, 0.0015151515151518534,...</td>\n",
       "    </tr>\n",
       "    <tr>\n",
       "      <th>7</th>\n",
       "      <td>3d</td>\n",
       "      <td>FreeCAD</td>\n",
       "      <td>FreeCAD</td>\n",
       "      <td>FreeCAD/FreeCAD</td>\n",
       "      <td>This is the official source code of FreeCAD, a...</td>\n",
       "      <td>C++</td>\n",
       "      <td>['windows', 'linux', 'engineering', 'architect...</td>\n",
       "      <td>754</td>\n",
       "      <td>2702</td>\n",
       "      <td>11073</td>\n",
       "      <td>11073</td>\n",
       "      <td>this is the official source code of freecad a ...</td>\n",
       "      <td>[0.0010416666666669273, 0.0010416666666669273,...</td>\n",
       "    </tr>\n",
       "    <tr>\n",
       "      <th>...</th>\n",
       "      <td>...</td>\n",
       "      <td>...</td>\n",
       "      <td>...</td>\n",
       "      <td>...</td>\n",
       "      <td>...</td>\n",
       "      <td>...</td>\n",
       "      <td>...</td>\n",
       "      <td>...</td>\n",
       "      <td>...</td>\n",
       "      <td>...</td>\n",
       "      <td>...</td>\n",
       "      <td>...</td>\n",
       "      <td>...</td>\n",
       "    </tr>\n",
       "    <tr>\n",
       "      <th>40627</th>\n",
       "      <td>xml</td>\n",
       "      <td>sepa_king</td>\n",
       "      <td>salesking</td>\n",
       "      <td>salesking/sepa_king</td>\n",
       "      <td>Ruby gem for creating SEPA XML files</td>\n",
       "      <td>Ruby</td>\n",
       "      <td>['ruby', 'rubygems', 'xml', 'payment', 'fintec...</td>\n",
       "      <td>11</td>\n",
       "      <td>106</td>\n",
       "      <td>128</td>\n",
       "      <td>128</td>\n",
       "      <td>ruby gem for creating sepa xml files</td>\n",
       "      <td>[0.0027777777777779926, 0.0027777777777779926,...</td>\n",
       "    </tr>\n",
       "    <tr>\n",
       "      <th>40628</th>\n",
       "      <td>xml</td>\n",
       "      <td>Sitemap</td>\n",
       "      <td>ThePixelDeveloper</td>\n",
       "      <td>ThePixelDeveloper/Sitemap</td>\n",
       "      <td>PHP XML Sitemap Generation</td>\n",
       "      <td>PHP</td>\n",
       "      <td>['php', 'sitemap', 'xml', 'xml-sitemap', 'site...</td>\n",
       "      <td>5</td>\n",
       "      <td>36</td>\n",
       "      <td>128</td>\n",
       "      <td>128</td>\n",
       "      <td>php xml sitemap generation</td>\n",
       "      <td>[0.003333333333334223, 0.003333333333334223, 0...</td>\n",
       "    </tr>\n",
       "    <tr>\n",
       "      <th>40629</th>\n",
       "      <td>xml</td>\n",
       "      <td>open-bibles</td>\n",
       "      <td>seven1m</td>\n",
       "      <td>seven1m/open-bibles</td>\n",
       "      <td>Repository of public domain and freely license...</td>\n",
       "      <td>Python</td>\n",
       "      <td>['xml', 'bible', 'bible-api']</td>\n",
       "      <td>0</td>\n",
       "      <td>36</td>\n",
       "      <td>126</td>\n",
       "      <td>126</td>\n",
       "      <td>repository of public domain and freely license...</td>\n",
       "      <td>[0.0018518518518527002, 0.0018518518518527002,...</td>\n",
       "    </tr>\n",
       "    <tr>\n",
       "      <th>40630</th>\n",
       "      <td>xml</td>\n",
       "      <td>fedramp-automation</td>\n",
       "      <td>GSA</td>\n",
       "      <td>GSA/fedramp-automation</td>\n",
       "      <td>FedRAMP Automation</td>\n",
       "      <td>XSLT</td>\n",
       "      <td>['json', 'automation', 'xml', 'sap', 'authoriz...</td>\n",
       "      <td>30</td>\n",
       "      <td>46</td>\n",
       "      <td>131</td>\n",
       "      <td>131</td>\n",
       "      <td>fedramp automation</td>\n",
       "      <td>[0.008333333333333406, 0.008333333333333406, 0...</td>\n",
       "    </tr>\n",
       "    <tr>\n",
       "      <th>40631</th>\n",
       "      <td>xml</td>\n",
       "      <td>soupsieve</td>\n",
       "      <td>facelessuser</td>\n",
       "      <td>facelessuser/soupsieve</td>\n",
       "      <td>A modern CSS selector implementation for Beaut...</td>\n",
       "      <td>Python</td>\n",
       "      <td>['css', 'python', 'html', 'html5', 'xml', 'css...</td>\n",
       "      <td>15</td>\n",
       "      <td>27</td>\n",
       "      <td>124</td>\n",
       "      <td>124</td>\n",
       "      <td>a modern css selector implementation for beaut...</td>\n",
       "      <td>[0.003333333333333845, 0.003333333333333845, 0...</td>\n",
       "    </tr>\n",
       "  </tbody>\n",
       "</table>\n",
       "<p>35238 rows × 13 columns</p>\n",
       "</div>"
      ],
      "text/plain": [
       "      topic                           name              owner  \\\n",
       "0        3d                       three.js             mrdoob   \n",
       "4        3d                         aframe           aframevr   \n",
       "5        3d                   tinyrenderer              ssloy   \n",
       "6        3d  3d-game-shaders-for-beginners            lettier   \n",
       "7        3d                        FreeCAD            FreeCAD   \n",
       "...     ...                            ...                ...   \n",
       "40627   xml                      sepa_king          salesking   \n",
       "40628   xml                        Sitemap  ThePixelDeveloper   \n",
       "40629   xml                    open-bibles            seven1m   \n",
       "40630   xml             fedramp-automation                GSA   \n",
       "40631   xml                      soupsieve       facelessuser   \n",
       "\n",
       "                                   full_name  \\\n",
       "0                            mrdoob/three.js   \n",
       "4                            aframevr/aframe   \n",
       "5                         ssloy/tinyrenderer   \n",
       "6      lettier/3d-game-shaders-for-beginners   \n",
       "7                            FreeCAD/FreeCAD   \n",
       "...                                      ...   \n",
       "40627                    salesking/sepa_king   \n",
       "40628              ThePixelDeveloper/Sitemap   \n",
       "40629                    seven1m/open-bibles   \n",
       "40630                 GSA/fedramp-automation   \n",
       "40631                 facelessuser/soupsieve   \n",
       "\n",
       "                                             description    language  \\\n",
       "0                                 JavaScript 3D Library.  JavaScript   \n",
       "4      🅰️ web framework for building virtual reality ...  JavaScript   \n",
       "5           A brief computer graphics / rendering course         C++   \n",
       "6      🎮 A step-by-step guide to implementing SSAO, d...         C++   \n",
       "7      This is the official source code of FreeCAD, a...         C++   \n",
       "...                                                  ...         ...   \n",
       "40627               Ruby gem for creating SEPA XML files        Ruby   \n",
       "40628                         PHP XML Sitemap Generation         PHP   \n",
       "40629  Repository of public domain and freely license...      Python   \n",
       "40630                                 FedRAMP Automation        XSLT   \n",
       "40631  A modern CSS selector implementation for Beaut...      Python   \n",
       "\n",
       "                                                    tags  open_issues  forks  \\\n",
       "0      ['javascript', 'svg', 'webgl', 'html5', 'canva...          472  31277   \n",
       "4      ['html', 'threejs', 'game-engine', 'vr', 'webv...          360   3388   \n",
       "5      ['learning', 'c-plus-plus', 'fun', 'tutorial',...           28   1254   \n",
       "6      ['gamedev', 'webgl', 'opengl', 'unity', 'shade...           14    957   \n",
       "7      ['windows', 'linux', 'engineering', 'architect...          754   2702   \n",
       "...                                                  ...          ...    ...   \n",
       "40627  ['ruby', 'rubygems', 'xml', 'payment', 'fintec...           11    106   \n",
       "40628  ['php', 'sitemap', 'xml', 'xml-sitemap', 'site...            5     36   \n",
       "40629                      ['xml', 'bible', 'bible-api']            0     36   \n",
       "40630  ['json', 'automation', 'xml', 'sap', 'authoriz...           30     46   \n",
       "40631  ['css', 'python', 'html', 'html5', 'xml', 'css...           15     27   \n",
       "\n",
       "       stars  watchers                                description_cleaned  \\\n",
       "0      80797     80797                              javascript d library    \n",
       "4      14003     14003   web framework for building viual reality expe...   \n",
       "5      13424     13424         a brief computer graphics rendering course   \n",
       "6      12567     12567   a step by step guide to implementing ssao dep...   \n",
       "7      11073     11073  this is the official source code of freecad a ...   \n",
       "...      ...       ...                                                ...   \n",
       "40627    128       128               ruby gem for creating sepa xml files   \n",
       "40628    128       128                         php xml sitemap generation   \n",
       "40629    126       126  repository of public domain and freely license...   \n",
       "40630    131       131                                 fedramp automation   \n",
       "40631    124       124  a modern css selector implementation for beaut...   \n",
       "\n",
       "                                          embeddings_lda  \n",
       "0      [0.005555555555555608, 0.005555555555555608, 0...  \n",
       "4      [0.0023809523809524215, 0.0023809523809524215,...  \n",
       "5      [0.0027777777777780264, 0.0027777777777780264,...  \n",
       "6      [0.0015151515151518534, 0.0015151515151518534,...  \n",
       "7      [0.0010416666666669273, 0.0010416666666669273,...  \n",
       "...                                                  ...  \n",
       "40627  [0.0027777777777779926, 0.0027777777777779926,...  \n",
       "40628  [0.003333333333334223, 0.003333333333334223, 0...  \n",
       "40629  [0.0018518518518527002, 0.0018518518518527002,...  \n",
       "40630  [0.008333333333333406, 0.008333333333333406, 0...  \n",
       "40631  [0.003333333333333845, 0.003333333333333845, 0...  \n",
       "\n",
       "[35238 rows x 13 columns]"
      ]
     },
     "execution_count": 113,
     "metadata": {},
     "output_type": "execute_result"
    }
   ],
   "source": [
    "data"
   ]
  },
  {
   "cell_type": "code",
   "execution_count": 112,
   "id": "6fa769c2-ace1-4b84-ab14-ced061af4367",
   "metadata": {},
   "outputs": [
    {
     "data": {
      "text/html": [
       "<div>\n",
       "<style scoped>\n",
       "    .dataframe tbody tr th:only-of-type {\n",
       "        vertical-align: middle;\n",
       "    }\n",
       "\n",
       "    .dataframe tbody tr th {\n",
       "        vertical-align: top;\n",
       "    }\n",
       "\n",
       "    .dataframe thead th {\n",
       "        text-align: right;\n",
       "    }\n",
       "</style>\n",
       "<table border=\"1\" class=\"dataframe\">\n",
       "  <thead>\n",
       "    <tr style=\"text-align: right;\">\n",
       "      <th></th>\n",
       "      <th>topic</th>\n",
       "      <th>name</th>\n",
       "      <th>owner</th>\n",
       "      <th>full_name</th>\n",
       "      <th>description</th>\n",
       "      <th>language</th>\n",
       "      <th>tags</th>\n",
       "      <th>open_issues</th>\n",
       "      <th>forks</th>\n",
       "      <th>stars</th>\n",
       "      <th>watchers</th>\n",
       "      <th>description_cleaned</th>\n",
       "      <th>embeddings_lda</th>\n",
       "      <th>distance</th>\n",
       "    </tr>\n",
       "  </thead>\n",
       "  <tbody>\n",
       "    <tr>\n",
       "      <th>19529</th>\n",
       "      <td>java</td>\n",
       "      <td>spark</td>\n",
       "      <td>apache</td>\n",
       "      <td>apache/spark</td>\n",
       "      <td>Apache Spark - A unified analytics engine for ...</td>\n",
       "      <td>Scala</td>\n",
       "      <td>['python', 'java', 'r', 'scala', 'sql', 'big-d...</td>\n",
       "      <td>217</td>\n",
       "      <td>25454</td>\n",
       "      <td>32515</td>\n",
       "      <td>32515</td>\n",
       "      <td>apache spark a unified analytics engine for la...</td>\n",
       "      <td>[0.0016666666666667572, 0.0016666666666667572,...</td>\n",
       "      <td>0.000</td>\n",
       "    </tr>\n",
       "    <tr>\n",
       "      <th>30227</th>\n",
       "      <td>python</td>\n",
       "      <td>spark</td>\n",
       "      <td>apache</td>\n",
       "      <td>apache/spark</td>\n",
       "      <td>Apache Spark - A unified analytics engine for ...</td>\n",
       "      <td>Scala</td>\n",
       "      <td>['python', 'java', 'r', 'scala', 'sql', 'big-d...</td>\n",
       "      <td>223</td>\n",
       "      <td>25456</td>\n",
       "      <td>32519</td>\n",
       "      <td>32519</td>\n",
       "      <td>apache spark a unified analytics engine for la...</td>\n",
       "      <td>[0.0016666666666667572, 0.0016666666666667572,...</td>\n",
       "      <td>0.000</td>\n",
       "    </tr>\n",
       "    <tr>\n",
       "      <th>30494</th>\n",
       "      <td>r</td>\n",
       "      <td>spark</td>\n",
       "      <td>apache</td>\n",
       "      <td>apache/spark</td>\n",
       "      <td>Apache Spark - A unified analytics engine for ...</td>\n",
       "      <td>Scala</td>\n",
       "      <td>['python', 'java', 'r', 'scala', 'sql', 'big-d...</td>\n",
       "      <td>223</td>\n",
       "      <td>25456</td>\n",
       "      <td>32519</td>\n",
       "      <td>32519</td>\n",
       "      <td>apache spark a unified analytics engine for la...</td>\n",
       "      <td>[0.0016666666666667572, 0.0016666666666667572,...</td>\n",
       "      <td>0.000</td>\n",
       "    </tr>\n",
       "    <tr>\n",
       "      <th>32791</th>\n",
       "      <td>scala</td>\n",
       "      <td>spark</td>\n",
       "      <td>apache</td>\n",
       "      <td>apache/spark</td>\n",
       "      <td>Apache Spark - A unified analytics engine for ...</td>\n",
       "      <td>Scala</td>\n",
       "      <td>['python', 'java', 'r', 'scala', 'sql', 'big-d...</td>\n",
       "      <td>223</td>\n",
       "      <td>25455</td>\n",
       "      <td>32520</td>\n",
       "      <td>32520</td>\n",
       "      <td>apache spark a unified analytics engine for la...</td>\n",
       "      <td>[0.0016666666666667572, 0.0016666666666667572,...</td>\n",
       "      <td>0.000</td>\n",
       "    </tr>\n",
       "    <tr>\n",
       "      <th>34861</th>\n",
       "      <td>sql</td>\n",
       "      <td>spark</td>\n",
       "      <td>apache</td>\n",
       "      <td>apache/spark</td>\n",
       "      <td>Apache Spark - A unified analytics engine for ...</td>\n",
       "      <td>Scala</td>\n",
       "      <td>['python', 'java', 'r', 'scala', 'sql', 'big-d...</td>\n",
       "      <td>223</td>\n",
       "      <td>25455</td>\n",
       "      <td>32520</td>\n",
       "      <td>32520</td>\n",
       "      <td>apache spark a unified analytics engine for la...</td>\n",
       "      <td>[0.0016666666666667572, 0.0016666666666667572,...</td>\n",
       "      <td>0.000</td>\n",
       "    </tr>\n",
       "    <tr>\n",
       "      <th>15766</th>\n",
       "      <td>game-engine</td>\n",
       "      <td>Unity2D-Components</td>\n",
       "      <td>cmilr</td>\n",
       "      <td>cmilr/Unity2D-Components</td>\n",
       "      <td>A constantly evolving array of Unity C# compon...</td>\n",
       "      <td>C#</td>\n",
       "      <td>['c-sharp', 'gamedev', 'csharp', 'game-engine'...</td>\n",
       "      <td>0</td>\n",
       "      <td>65</td>\n",
       "      <td>447</td>\n",
       "      <td>447</td>\n",
       "      <td>a constantly evolving array of unity c# compon...</td>\n",
       "      <td>[0.0007936507936510763, 0.0007936507936510763,...</td>\n",
       "      <td>0.330</td>\n",
       "    </tr>\n",
       "    <tr>\n",
       "      <th>29286</th>\n",
       "      <td>pixel-art</td>\n",
       "      <td>Unity2D-Components</td>\n",
       "      <td>cmilr</td>\n",
       "      <td>cmilr/Unity2D-Components</td>\n",
       "      <td>A constantly evolving array of Unity C# compon...</td>\n",
       "      <td>C#</td>\n",
       "      <td>['c-sharp', 'gamedev', 'csharp', 'game-engine'...</td>\n",
       "      <td>0</td>\n",
       "      <td>65</td>\n",
       "      <td>447</td>\n",
       "      <td>447</td>\n",
       "      <td>a constantly evolving array of unity c# compon...</td>\n",
       "      <td>[0.0007936507936510763, 0.0007936507936510763,...</td>\n",
       "      <td>0.330</td>\n",
       "    </tr>\n",
       "    <tr>\n",
       "      <th>6737</th>\n",
       "      <td>code-review</td>\n",
       "      <td>How-NOT-to-Review-a-Pull-Request</td>\n",
       "      <td>ausmith</td>\n",
       "      <td>ausmith/How-NOT-to-Review-a-Pull-Request</td>\n",
       "      <td>A presentation by Aaron Goldsmith</td>\n",
       "      <td>Shell</td>\n",
       "      <td>['communication', 'code-review', 'pull-requests']</td>\n",
       "      <td>5</td>\n",
       "      <td>1</td>\n",
       "      <td>9</td>\n",
       "      <td>9</td>\n",
       "      <td>a presentation by aaron goldsmith</td>\n",
       "      <td>[0.00833333333333365, 0.00833333333333365, 0.0...</td>\n",
       "      <td>0.366</td>\n",
       "    </tr>\n",
       "    <tr>\n",
       "      <th>12509</th>\n",
       "      <td>ember</td>\n",
       "      <td>ember-yeti-table</td>\n",
       "      <td>miguelcobain</td>\n",
       "      <td>miguelcobain/ember-yeti-table</td>\n",
       "      <td>Yeti Table</td>\n",
       "      <td>JavaScript</td>\n",
       "      <td>['ember', 'datagrid', 'tables', 'yeti']</td>\n",
       "      <td>37</td>\n",
       "      <td>14</td>\n",
       "      <td>54</td>\n",
       "      <td>54</td>\n",
       "      <td>yeti table</td>\n",
       "      <td>[0.008333333333333847, 0.008333333333333847, 0...</td>\n",
       "      <td>0.366</td>\n",
       "    </tr>\n",
       "    <tr>\n",
       "      <th>18137</th>\n",
       "      <td>haskell</td>\n",
       "      <td>foundation</td>\n",
       "      <td>haskell-foundation</td>\n",
       "      <td>haskell-foundation/foundation</td>\n",
       "      <td>Empire strikes back</td>\n",
       "      <td>Haskell</td>\n",
       "      <td>['haskell', 'foundation', 'prelude']</td>\n",
       "      <td>124</td>\n",
       "      <td>78</td>\n",
       "      <td>458</td>\n",
       "      <td>458</td>\n",
       "      <td>empire strikes back</td>\n",
       "      <td>[0.008333333333333455, 0.008333333333336763, 0...</td>\n",
       "      <td>0.366</td>\n",
       "    </tr>\n",
       "  </tbody>\n",
       "</table>\n",
       "</div>"
      ],
      "text/plain": [
       "             topic                              name               owner  \\\n",
       "19529         java                             spark              apache   \n",
       "30227       python                             spark              apache   \n",
       "30494            r                             spark              apache   \n",
       "32791        scala                             spark              apache   \n",
       "34861          sql                             spark              apache   \n",
       "15766  game-engine                Unity2D-Components               cmilr   \n",
       "29286    pixel-art                Unity2D-Components               cmilr   \n",
       "6737   code-review  How-NOT-to-Review-a-Pull-Request             ausmith   \n",
       "12509        ember                  ember-yeti-table        miguelcobain   \n",
       "18137      haskell                        foundation  haskell-foundation   \n",
       "\n",
       "                                      full_name  \\\n",
       "19529                              apache/spark   \n",
       "30227                              apache/spark   \n",
       "30494                              apache/spark   \n",
       "32791                              apache/spark   \n",
       "34861                              apache/spark   \n",
       "15766                  cmilr/Unity2D-Components   \n",
       "29286                  cmilr/Unity2D-Components   \n",
       "6737   ausmith/How-NOT-to-Review-a-Pull-Request   \n",
       "12509             miguelcobain/ember-yeti-table   \n",
       "18137             haskell-foundation/foundation   \n",
       "\n",
       "                                             description    language  \\\n",
       "19529  Apache Spark - A unified analytics engine for ...       Scala   \n",
       "30227  Apache Spark - A unified analytics engine for ...       Scala   \n",
       "30494  Apache Spark - A unified analytics engine for ...       Scala   \n",
       "32791  Apache Spark - A unified analytics engine for ...       Scala   \n",
       "34861  Apache Spark - A unified analytics engine for ...       Scala   \n",
       "15766  A constantly evolving array of Unity C# compon...          C#   \n",
       "29286  A constantly evolving array of Unity C# compon...          C#   \n",
       "6737                   A presentation by Aaron Goldsmith       Shell   \n",
       "12509                                         Yeti Table  JavaScript   \n",
       "18137                                Empire strikes back     Haskell   \n",
       "\n",
       "                                                    tags  open_issues  forks  \\\n",
       "19529  ['python', 'java', 'r', 'scala', 'sql', 'big-d...          217  25454   \n",
       "30227  ['python', 'java', 'r', 'scala', 'sql', 'big-d...          223  25456   \n",
       "30494  ['python', 'java', 'r', 'scala', 'sql', 'big-d...          223  25456   \n",
       "32791  ['python', 'java', 'r', 'scala', 'sql', 'big-d...          223  25455   \n",
       "34861  ['python', 'java', 'r', 'scala', 'sql', 'big-d...          223  25455   \n",
       "15766  ['c-sharp', 'gamedev', 'csharp', 'game-engine'...            0     65   \n",
       "29286  ['c-sharp', 'gamedev', 'csharp', 'game-engine'...            0     65   \n",
       "6737   ['communication', 'code-review', 'pull-requests']            5      1   \n",
       "12509            ['ember', 'datagrid', 'tables', 'yeti']           37     14   \n",
       "18137               ['haskell', 'foundation', 'prelude']          124     78   \n",
       "\n",
       "       stars  watchers                                description_cleaned  \\\n",
       "19529  32515     32515  apache spark a unified analytics engine for la...   \n",
       "30227  32519     32519  apache spark a unified analytics engine for la...   \n",
       "30494  32519     32519  apache spark a unified analytics engine for la...   \n",
       "32791  32520     32520  apache spark a unified analytics engine for la...   \n",
       "34861  32520     32520  apache spark a unified analytics engine for la...   \n",
       "15766    447       447  a constantly evolving array of unity c# compon...   \n",
       "29286    447       447  a constantly evolving array of unity c# compon...   \n",
       "6737       9         9                  a presentation by aaron goldsmith   \n",
       "12509     54        54                                         yeti table   \n",
       "18137    458       458                                empire strikes back   \n",
       "\n",
       "                                          embeddings_lda  distance  \n",
       "19529  [0.0016666666666667572, 0.0016666666666667572,...     0.000  \n",
       "30227  [0.0016666666666667572, 0.0016666666666667572,...     0.000  \n",
       "30494  [0.0016666666666667572, 0.0016666666666667572,...     0.000  \n",
       "32791  [0.0016666666666667572, 0.0016666666666667572,...     0.000  \n",
       "34861  [0.0016666666666667572, 0.0016666666666667572,...     0.000  \n",
       "15766  [0.0007936507936510763, 0.0007936507936510763,...     0.330  \n",
       "29286  [0.0007936507936510763, 0.0007936507936510763,...     0.330  \n",
       "6737   [0.00833333333333365, 0.00833333333333365, 0.0...     0.366  \n",
       "12509  [0.008333333333333847, 0.008333333333333847, 0...     0.366  \n",
       "18137  [0.008333333333333455, 0.008333333333336763, 0...     0.366  "
      ]
     },
     "execution_count": 112,
     "metadata": {},
     "output_type": "execute_result"
    }
   ],
   "source": [
    "repo_id = 19529\n",
    "\n",
    "get_nns_by_repo_id(repo_id)"
   ]
  },
  {
   "cell_type": "code",
   "execution_count": null,
   "id": "fd60731b-619c-430b-a793-b12b7cb85032",
   "metadata": {},
   "outputs": [],
   "source": [
    "for i, (repo_id, e) in enumerate(tf_idf)):\n",
    "    repos_ann.add_item(i, list(e))\n",
    "    repos_mapping[repo_id] = i"
   ]
  },
  {
   "cell_type": "code",
   "execution_count": 2,
   "id": "e699dd8a-b047-4d09-9dca-8da5f572aca3",
   "metadata": {},
   "outputs": [
    {
     "name": "stdout",
     "output_type": "stream",
     "text": [
      "[0, 275, 656, 537, 209, 456, 130, 101, 998, 13, 866, 737, 147, 660, 251, 31, 907, 651, 525, 745, 739, 825, 95, 782, 711, 78, 518, 235, 490, 440, 929, 477, 568, 994, 850, 131, 172, 903, 556, 538, 676, 926, 531, 976, 983, 7, 966, 455, 9, 931, 854, 137, 821, 806, 410, 577, 29, 155, 216, 685, 814, 923, 727, 413, 25, 82, 960, 731, 853, 393, 294, 834, 300, 653, 958, 431, 805, 765, 715, 403, 969, 771, 749, 543, 963, 310, 427, 73, 202, 213, 540, 932, 358, 303, 394, 502, 774, 61, 752, 989, 890, 115, 276, 262, 371, 287, 662, 425, 956, 712, 668, 645, 600, 530, 105, 995, 738, 337, 581, 837, 62, 846, 491, 265, 795, 741, 17, 377, 54, 990, 41, 523, 895, 947, 206, 211, 246, 864, 191, 695, 812, 601, 194, 732, 384, 139, 667, 868, 713, 400, 748, 96, 473, 254, 112, 506, 807, 418, 529, 44, 293, 119, 56, 973, 468, 982, 231, 971, 596, 687, 725, 488, 999, 865, 333, 638, 433, 76, 397, 255, 603, 839, 816, 968, 993, 93, 186, 247, 207, 149, 835, 840, 92, 125, 192, 308, 3, 905, 208, 818, 595, 240, 957, 21, 305, 576, 444, 122, 826, 505, 801, 608, 550, 489, 558, 405, 671, 302, 239, 81, 515, 75, 950, 794, 761, 245, 238, 380, 573, 161, 126, 219, 521, 350, 322, 776, 629, 354, 504, 772, 883, 140, 135, 467, 301, 552, 65, 145, 106, 426, 281, 621, 45, 534, 704, 296, 437, 176, 910, 797, 485, 199, 717, 500, 946, 227, 27, 49, 266, 710, 348, 560, 996, 698, 650, 20, 317, 914, 986, 781, 734, 579, 320, 430, 72, 285, 84, 949, 943, 766, 160, 229, 967, 762, 681, 376, 349, 154, 847, 753, 770, 760, 48, 566, 768, 378, 658, 978, 346, 678, 689, 408, 143, 683, 590, 878, 744, 896, 697, 696, 196, 636, 389, 297, 157, 863, 948, 478, 439, 326, 675, 274, 951, 100, 898, 722, 597, 448, 319, 548, 454, 434, 57, 622, 498, 224, 353, 117, 128, 546, 819, 640, 589, 584, 607, 37, 612, 466, 190, 981, 733, 342, 740, 935, 686, 193, 751, 401, 273, 513, 893, 222, 223, 14, 107, 869, 688, 887, 58, 269, 613, 381, 535, 33, 351, 312, 483, 916, 619, 786, 442, 162, 340, 889, 189, 940, 881, 635, 841, 692, 817, 482, 904, 52, 706, 335, 174, 808, 707, 80, 633, 492, 832, 205, 53, 306, 292, 912, 870, 166, 248, 59, 902, 46, 763, 299, 379, 702, 5, 383, 173, 626, 412, 74, 450, 220, 487, 944, 618, 604, 700, 588, 109, 304, 918, 649, 665, 462, 198, 204, 933, 775, 838, 244, 924, 60, 495, 569, 443, 591, 87, 824, 611, 324, 375, 679, 802, 849, 503, 88, 71, 214, 828, 557, 875, 175, 423, 184, 233, 602, 390, 554, 64, 673, 392, 8, 779, 372, 677, 871, 844, 519, 146, 962, 68, 236, 496, 416, 699, 892, 187, 69, 217, 363, 170, 134, 373, 447, 288, 141, 661, 10, 334, 327, 582, 32, 539, 690, 716, 360, 284, 79, 402, 388, 159, 724, 974, 361, 453, 627, 283, 820, 804, 429, 955, 102, 833, 708, 263, 953, 842, 803, 759, 91, 631, 271, 203, 415, 785, 188, 70, 524, 610, 19, 843, 852, 615, 435, 26, 499, 289, 532, 267, 655, 831, 674, 368, 669, 901, 541, 796, 511, 438, 167, 777, 441, 110, 404, 909, 86, 364, 460, 830, 879, 386, 391, 921, 179, 311, 642, 218, 666, 623, 321, 811, 594, 565, 787, 50, 888, 885, 997, 4, 592, 486, 599, 542, 641, 156, 922, 977, 630, 867, 886, 684, 35, 424, 876, 891, 703, 693, 445, 528, 567, 370, 471, 494, 979, 858, 522, 279, 735, 264, 277, 197, 171, 15, 954, 12, 177, 945, 773, 719, 83, 516, 268, 469, 815, 927, 880, 894, 564, 899, 153, 848, 195, 55, 509, 736, 860, 178, 856, 436, 991, 792, 798, 563, 385, 845, 11, 272, 659, 258, 315, 508, 526, 169, 341, 374, 475, 419, 547, 784, 77, 114, 586, 580, 420, 463, 359, 620, 746, 421, 458, 398, 884, 598, 606, 559, 964, 399, 646, 344, 352, 670, 182, 756, 614, 743, 533, 664, 237, 150, 616, 778, 226, 129, 480, 249, 22, 637, 298, 395, 36, 338, 574, 648, 484, 314, 407, 572, 152, 291, 365, 200, 417, 474, 457, 520, 512, 561, 813, 43, 228, 230, 250, 260, 259, 691, 432, 253, 406, 85, 332, 789, 809, 51, 984, 242, 726, 585, 562, 280, 908, 257, 544, 965, 396, 859, 347, 6, 411, 721, 366, 897, 917, 873, 30, 938, 728, 409, 369, 356, 252, 959, 183, 470, 657, 639, 780, 63, 449, 961, 123, 367, 481, 40, 900, 313, 464, 336, 609, 278, 476, 851, 764, 357, 919, 545, 330, 164, 605, 654, 325, 243, 99, 286, 329, 212, 116, 718, 290, 810, 451, 583, 934, 536, 714, 201, 644, 972, 382, 165, 570, 113, 318, 181, 757, 555, 937, 104, 459, 742, 472, 527, 34, 256, 261, 136, 98, 755, 18, 754, 142, 282, 882, 793, 517, 241, 709, 723, 729, 232, 461, 144, 647, 387, 479, 551, 769, 836, 952, 575, 920, 103, 988, 652, 493, 680, 108, 942, 225, 446, 138, 23, 672, 210, 124, 339, 1, 628, 985, 66, 507, 911, 127, 362, 355, 323, 930, 121, 788, 38, 422, 915, 158, 2, 215, 587, 501, 632, 549, 111, 663, 553, 783, 750, 643, 822, 295, 862, 593, 67, 510, 414, 148, 913, 941, 682, 758, 428, 980, 799, 925, 28, 992, 827, 24, 151, 42, 694, 705, 345, 855, 747, 185, 328, 343, 625, 180, 452, 316, 133, 168, 790, 970, 118, 928, 730, 234, 936, 791, 877, 16, 701, 975, 132, 94, 497, 307, 634, 331, 39, 90, 823, 939, 617, 861, 270, 221, 120, 571, 624, 987, 857, 874, 906, 97, 465, 720, 163, 578, 829, 514, 767, 89, 872, 309, 47, 800]\n"
     ]
    }
   ],
   "source": [
    "from annoy import AnnoyIndex\n",
    "import random\n",
    "\n",
    "f = 2  # Length of item vector that will be indexed\n",
    "\n",
    "t = AnnoyIndex(f, 'angular')\n",
    "for i in range(tf_idf.shape[0]):\n",
    "    v = [random.gauss(0, 1) for z in range(tf_idf.shape[0])]\n",
    "    t.add_item(i, v)\n",
    "\n",
    "t.build(10) # 10 trees\n",
    "t.save('test.ann')\n",
    "\n",
    "# ...\n",
    "\n",
    "u = AnnoyIndex(f, 'angular')\n",
    "u.load('test.ann') # super fast, will just mmap the file\n",
    "print(u.get_nns_by_item(0, 1000)) # will find the 1000 nearest neighbors"
   ]
  },
  {
   "cell_type": "code",
   "execution_count": 114,
   "id": "0ed0e3ef-9c26-498d-9766-3e5a85ec1aa2",
   "metadata": {},
   "outputs": [
    {
     "name": "stdin",
     "output_type": "stream",
     "text": [
      " sd\n"
     ]
    }
   ],
   "source": [
    "i = input()"
   ]
  },
  {
   "cell_type": "code",
   "execution_count": 116,
   "id": "72b5c8bd-f8a2-43d4-8625-93b3dc372a28",
   "metadata": {},
   "outputs": [],
   "source": [
    "from inp import get_input"
   ]
  },
  {
   "cell_type": "code",
   "execution_count": 117,
   "id": "c391b99e-15ac-408d-9493-0eebcbeb5a95",
   "metadata": {},
   "outputs": [
    {
     "name": "stdin",
     "output_type": "stream",
     "text": [
      " d\n"
     ]
    },
    {
     "name": "stdout",
     "output_type": "stream",
     "text": [
      "d\n"
     ]
    },
    {
     "name": "stdin",
     "output_type": "stream",
     "text": [
      " d\n"
     ]
    },
    {
     "name": "stdout",
     "output_type": "stream",
     "text": [
      "d\n"
     ]
    },
    {
     "name": "stdin",
     "output_type": "stream",
     "text": [
      " d\n"
     ]
    },
    {
     "name": "stdout",
     "output_type": "stream",
     "text": [
      "d\n"
     ]
    },
    {
     "name": "stdin",
     "output_type": "stream",
     "text": [
      " d\n"
     ]
    },
    {
     "name": "stdout",
     "output_type": "stream",
     "text": [
      "d\n"
     ]
    },
    {
     "name": "stdin",
     "output_type": "stream",
     "text": [
      " d\n"
     ]
    },
    {
     "name": "stdout",
     "output_type": "stream",
     "text": [
      "d\n"
     ]
    }
   ],
   "source": [
    "get_input()"
   ]
  },
  {
   "cell_type": "code",
   "execution_count": null,
   "id": "4d2b79f6-0074-4c2f-82a9-8b83500c0d49",
   "metadata": {},
   "outputs": [],
   "source": []
  }
 ],
 "metadata": {
  "kernelspec": {
   "display_name": "Python 3",
   "language": "python",
   "name": "python3"
  },
  "language_info": {
   "codemirror_mode": {
    "name": "ipython",
    "version": 3
   },
   "file_extension": ".py",
   "mimetype": "text/x-python",
   "name": "python",
   "nbconvert_exporter": "python",
   "pygments_lexer": "ipython3",
   "version": "3.8.8"
  }
 },
 "nbformat": 4,
 "nbformat_minor": 5
}
